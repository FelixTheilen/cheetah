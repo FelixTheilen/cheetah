{
 "metadata": {
  "language_info": {
   "codemirror_mode": {
    "name": "ipython",
    "version": 3
   },
   "file_extension": ".py",
   "mimetype": "text/x-python",
   "name": "python",
   "nbconvert_exporter": "python",
   "pygments_lexer": "ipython3",
   "version": "3.8.7-final"
  },
  "orig_nbformat": 2,
  "kernelspec": {
   "name": "python3",
   "display_name": "Python 3.8.7 64-bit",
   "metadata": {
    "interpreter": {
     "hash": "aee8b7b246df8f9039afb4144a1f6fd8d2ca17a180786b69acc140d282b71a49"
    }
   }
  }
 },
 "nbformat": 4,
 "nbformat_minor": 2,
 "cells": [
  {
   "cell_type": "code",
   "execution_count": 1,
   "metadata": {},
   "outputs": [
    {
     "output_type": "stream",
     "name": "stdout",
     "text": [
      "initializing ocelot...\n"
     ]
    }
   ],
   "source": [
    "import gym\n",
    "import accelerator_environments\n",
    "import joss\n",
    "import matplotlib.pyplot as plt\n",
    "import numpy as np\n",
    "import ocelot as oc"
   ]
  },
  {
   "cell_type": "code",
   "execution_count": null,
   "metadata": {},
   "outputs": [],
   "source": [
    "%timeit"
   ]
  },
  {
   "cell_type": "code",
   "execution_count": null,
   "metadata": {},
   "outputs": [],
   "source": [
    "ocelot_env = gym.make(\"ARESEA-Ocelot-v0\")\n",
    "joss_env = gym.make(\"ARESEA-JOSS-v0\")\n",
    "\n",
    "observation = ocelot_env.reset()\n",
    "_ = joss_env.reset()\n",
    "actuator_values = ocelot_env.read_actuators()\n",
    "actuator_values[0] = 5.5\n",
    "actuator_values[1] = -5.5\n",
    "actuator_values[2] = 0\n",
    "actuator_values[3] = 0\n",
    "actuator_values[4] = 0\n",
    "# joss_env.initial_particles = ocelot_env.initial_particles.rparticles.transpose()\n",
    "_ = joss_env.objective_function(actuator_values)\n",
    "_ = ocelot_env.objective_function(actuator_values)\n",
    "\n",
    "plt.figure(figsize=(10,5))\n",
    "plt.subplot(121)\n",
    "plt.title(\"Ocelot\")\n",
    "plt.imshow(ocelot_env.screen_data, cmap=\"magma\", interpolation=\"None\")\n",
    "plt.colorbar()\n",
    "plt.subplot(122)\n",
    "plt.title(\"JOSS\")\n",
    "plt.imshow(joss_env.screen_data, cmap=\"magma\", interpolation=\"None\")\n",
    "plt.colorbar()\n",
    "plt.tight_layout()\n",
    "plt.show()"
   ]
  }
 ]
}