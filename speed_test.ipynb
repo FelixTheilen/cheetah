{
 "metadata": {
  "language_info": {
   "codemirror_mode": {
    "name": "ipython",
    "version": 3
   },
   "file_extension": ".py",
   "mimetype": "text/x-python",
   "name": "python",
   "nbconvert_exporter": "python",
   "pygments_lexer": "ipython3",
   "version": "3.8.7-final"
  },
  "orig_nbformat": 2,
  "kernelspec": {
   "name": "python3",
   "display_name": "Python 3.8.7 64-bit",
   "metadata": {
    "interpreter": {
     "hash": "aee8b7b246df8f9039afb4144a1f6fd8d2ca17a180786b69acc140d282b71a49"
    }
   }
  }
 },
 "nbformat": 4,
 "nbformat_minor": 2,
 "cells": [
  {
   "cell_type": "code",
   "execution_count": 1,
   "metadata": {},
   "outputs": [
    {
     "output_type": "stream",
     "name": "stdout",
     "text": [
      "initializing ocelot...\n"
     ]
    }
   ],
   "source": [
    "import time\n",
    "\n",
    "import gym\n",
    "import accelerator_environments\n",
    "import joss\n",
    "import matplotlib.pyplot as plt\n",
    "import numpy as np\n",
    "import ocelot as oc\n",
    "\n",
    "import accelerator_environments.envs.ares.ARESlatticeStage3v1_9 as aresstuff\n",
    "from accelerator_environments import utils"
   ]
  },
  {
   "cell_type": "code",
   "execution_count": 2,
   "metadata": {},
   "outputs": [],
   "source": [
    "binning = 4\n",
    "screen_resolution = (int(2448 / binning), int(2040 / binning))\n",
    "meter_per_pixel = (3.5488e-6 * binning, 2.5003e-6 * binning)\n",
    "screen_bin_edges = (np.linspace(-screen_resolution[0]*meter_per_pixel[0]/2,\n",
    "                                             screen_resolution[0]*meter_per_pixel[0]/2,\n",
    "                                             screen_resolution[0]+1),\n",
    "                                 np.linspace(-screen_resolution[1]*meter_per_pixel[1]/2,\n",
    "                                             screen_resolution[1]*meter_per_pixel[1]/2,\n",
    "                                             screen_resolution[1]+1))\n",
    "\n",
    "\n",
    "cell = utils.subcell_of(aresstuff.cell, \"AREASOLA1\", \"Drift_ARMRBSCR1\")\n",
    "aresstuff.areamqzm1.k1 = 5.5\n",
    "aresstuff.areamqzm2.k1 = -5.5\n",
    "aresstuff.areamqzm3.k1 = 0.0\n",
    "# cell = [oc.Drift(l=3.0), oc.Quadrupole(l=1, k1=0), oc.Drift(l=0), oc.Drift(l=3)]\n",
    "# cell = [oc.Drift(l=3.0)]\n",
    "\n",
    "lattice = oc.MagneticLattice(cell)"
   ]
  },
  {
   "cell_type": "code",
   "execution_count": 3,
   "metadata": {},
   "outputs": [
    {
     "output_type": "stream",
     "name": "stdout",
     "text": [
      "z = 6.654039999999998 / 6.654039999999998 : applied: 1.6352629661560059 seconds\n"
     ]
    }
   ],
   "source": [
    "particles = oc.generate_parray(nparticles=int(1e+5), sigma_x=175e-6, sigma_y=175e-6)\n",
    "\n",
    "t1 = time.time()\n",
    "\n",
    "navigator = oc.Navigator(lattice)\n",
    "_, particles = oc.track(lattice, particles, navigator)\n",
    "image = np.histogram2d(particles.x(), particles.y(),\n",
    "                       bins=screen_bin_edges)[0].transpose()\n",
    "\n",
    "t2 = time.time()\n",
    "\n",
    "print(f\"{t2 - t1} seconds\")"
   ]
  },
  {
   "cell_type": "code",
   "execution_count": 4,
   "metadata": {},
   "outputs": [
    {
     "output_type": "stream",
     "name": "stdout",
     "text": [
      "z = 6.654039999999998 / 6.654039999999998 : applied: 1.6932520866394043 seconds\n"
     ]
    }
   ],
   "source": [
    "particles = oc.generate_parray(nparticles=int(1e+5), sigma_x=175e-6, sigma_y=175e-6)\n",
    "\n",
    "t1 = time.time()\n",
    "\n",
    "navigator = oc.Navigator(lattice)\n",
    "navigator.unit_step = lattice.totalLen\n",
    "_, particles = oc.track(lattice, particles, navigator)\n",
    "image = np.histogram2d(particles.x(), particles.y(),\n",
    "                       bins=screen_bin_edges)[0].transpose()\n",
    "\n",
    "t2 = time.time()\n",
    "\n",
    "print(f\"{t2 - t1} seconds\")"
   ]
  },
  {
   "cell_type": "code",
   "execution_count": 5,
   "metadata": {},
   "outputs": [
    {
     "output_type": "stream",
     "name": "stdout",
     "text": [
      "0.028609037399291992 seconds\n"
     ]
    }
   ],
   "source": [
    "particles = joss.generate_particles(n=int(1e+5), sigma_x=175e-6, sigma_y=175e-6)\n",
    "\n",
    "t1 = time.time()\n",
    "\n",
    "transfer_map = joss.ocelot_lattice_2_transfer_matrix(cell)\n",
    "particles = joss.track(particles, transfer_map)\n",
    "image = np.histogram2d(particles[:,0], particles[:,2],\n",
    "                       bins=screen_bin_edges)[0].transpose()\n",
    "\n",
    "t2 = time.time()\n",
    "\n",
    "print(f\"{t2 - t1} seconds\")"
   ]
  },
  {
   "cell_type": "code",
   "execution_count": null,
   "metadata": {},
   "outputs": [],
   "source": []
  }
 ]
}