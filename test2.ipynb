{
 "metadata": {
  "language_info": {
   "codemirror_mode": {
    "name": "ipython",
    "version": 3
   },
   "file_extension": ".py",
   "mimetype": "text/x-python",
   "name": "python",
   "nbconvert_exporter": "python",
   "pygments_lexer": "ipython3",
   "version": "3.8.7-final"
  },
  "orig_nbformat": 2,
  "kernelspec": {
   "name": "python3",
   "display_name": "Python 3.8.7 64-bit",
   "metadata": {
    "interpreter": {
     "hash": "aee8b7b246df8f9039afb4144a1f6fd8d2ca17a180786b69acc140d282b71a49"
    }
   }
  }
 },
 "nbformat": 4,
 "nbformat_minor": 2,
 "cells": [
  {
   "cell_type": "code",
   "execution_count": 1,
   "metadata": {},
   "outputs": [
    {
     "output_type": "stream",
     "name": "stdout",
     "text": [
      "initializing ocelot...\n"
     ]
    }
   ],
   "source": [
    "import numpy as np\n",
    "import ocelot as oc"
   ]
  },
  {
   "cell_type": "code",
   "execution_count": null,
   "metadata": {},
   "outputs": [],
   "source": [
    "plt.figure(figsize=(10,5))\n",
    "binning = 4\n",
    "screen_resolution = (int(2448 / binning), int(2040 / binning))\n",
    "meter_per_pixel = (3.5488e-6 * binning, 2.5003e-6 * binning)\n",
    "screen_bin_edges = (np.linspace(-screen_resolution[0]*meter_per_pixel[0]/2,\n",
    "                                             screen_resolution[0]*meter_per_pixel[0]/2,\n",
    "                                             screen_resolution[0]+1),\n",
    "                                 np.linspace(-screen_resolution[1]*meter_per_pixel[1]/2,\n",
    "                                             screen_resolution[1]*meter_per_pixel[1]/2,\n",
    "                                             screen_resolution[1]+1))\n",
    "\n",
    "cell = [oc.Drift(l=3000000)]\n",
    "\n",
    "lattice = oc.MagneticLattice(cell)\n",
    "navigator = oc.Navigator(lattice)\n",
    "particles = oc.generate_parray(nparticles=int(1e+5), sigma_x=175e-6, sigma_y=175e-6)\n",
    "_, particles = oc.track(lattice, particles, navigator)\n",
    "image = np.histogram2d(particles.x(), particles.y(),\n",
    "                       bins=screen_bin_edges)[0].transpose()\n",
    "\n",
    "plt.subplot(121)\n",
    "plt.title(\"Ocelot\")\n",
    "plt.imshow(image, cmap=\"magma\", interpolation=\"None\")\n",
    "plt.colorbar()\n",
    "\n",
    "particles = joss.generate_particles(n=int(1e+5), sigma_x=175e-6, sigma_y=175e-6)\n",
    "transfer_map = joss.ocelot_lattice_2_transfer_matrix(cell)\n",
    "particles = joss.track(particles, transfer_map)\n",
    "image = np.histogram2d(particles[:,0], particles[:,2],\n",
    "                               bins=screen_bin_edges)[0].transpose()\n",
    "\n",
    "plt.subplot(122)\n",
    "plt.title(\"JOSS\")\n",
    "plt.imshow(image, cmap=\"magma\", interpolation=\"None\")\n",
    "plt.colorbar()\n",
    "\n",
    "plt.show()"
   ]
  }
 ]
}