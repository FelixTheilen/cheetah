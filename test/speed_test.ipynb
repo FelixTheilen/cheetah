{
 "cells": [
  {
   "cell_type": "code",
   "execution_count": 1,
   "metadata": {},
   "outputs": [],
   "source": [
    "import time\n",
    "\n",
    "import cheetah\n",
    "import numpy as np\n",
    "import ocelot as oc\n",
    "\n",
    "import ARESlatticeStage3v1_9 as aresstuff"
   ]
  },
  {
   "cell_type": "code",
   "execution_count": 2,
   "metadata": {},
   "outputs": [],
   "source": [
    "binning = 4\n",
    "screen_resolution = (int(2448 / binning), int(2040 / binning))\n",
    "meter_per_pixel = (3.5488e-6 * binning, 2.5003e-6 * binning)\n",
    "screen_bin_edges = (np.linspace(-screen_resolution[0]*meter_per_pixel[0]/2,\n",
    "                                             screen_resolution[0]*meter_per_pixel[0]/2,\n",
    "                                             screen_resolution[0]+1),\n",
    "                                 np.linspace(-screen_resolution[1]*meter_per_pixel[1]/2,\n",
    "                                             screen_resolution[1]*meter_per_pixel[1]/2,\n",
    "                                             screen_resolution[1]+1))\n",
    "\n",
    "\n",
    "cell = cheetah.utils.subcell_of(aresstuff.cell, \"AREASOLA1\", \"AREABSCR1\")\n",
    "aresstuff.areamqzm1.k1 = 5.5\n",
    "aresstuff.areamqzm2.k1 = -5.5\n",
    "aresstuff.areamqzm3.k1 = 0.0\n",
    "# cell = [oc.Drift(l=3.0), oc.Quadrupole(l=1, k1=0), oc.Drift(l=0), oc.Drift(l=3)]\n",
    "# cell = [oc.Drift(l=3.0)]\n",
    "\n",
    "lattice = oc.MagneticLattice(cell)"
   ]
  },
  {
   "cell_type": "code",
   "execution_count": 3,
   "metadata": {},
   "outputs": [
    {
     "name": "stdout",
     "output_type": "stream",
     "text": [
      "z = 2.0460399999999996 / 2.0460399999999996 : applied: 0.3585999011993408 seconds\n"
     ]
    }
   ],
   "source": [
    "particles = oc.generate_parray(nparticles=int(1e+5), sigma_x=175e-6, sigma_y=175e-6)\n",
    "\n",
    "t1 = time.time()\n",
    "\n",
    "navigator = oc.Navigator(lattice)\n",
    "_, particles = oc.track(lattice, particles, navigator)\n",
    "image = np.histogram2d(particles.x(), particles.y(),\n",
    "                       bins=screen_bin_edges)[0].transpose()\n",
    "\n",
    "t2 = time.time()\n",
    "\n",
    "print(f\"{t2 - t1} seconds\")"
   ]
  },
  {
   "cell_type": "code",
   "execution_count": 4,
   "metadata": {},
   "outputs": [
    {
     "name": "stdout",
     "output_type": "stream",
     "text": [
      "z = 2.0460399999999996 / 2.0460399999999996 : applied: 0.30924296379089355 seconds\n"
     ]
    }
   ],
   "source": [
    "particles = oc.generate_parray(nparticles=int(1e+5), sigma_x=175e-6, sigma_y=175e-6)\n",
    "\n",
    "t1 = time.time()\n",
    "\n",
    "navigator = oc.Navigator(lattice)\n",
    "navigator.unit_step = lattice.totalLen\n",
    "_, particles = oc.track(lattice, particles, navigator)\n",
    "image = np.histogram2d(particles.x(), particles.y(),\n",
    "                       bins=screen_bin_edges)[0].transpose()\n",
    "\n",
    "t2 = time.time()\n",
    "\n",
    "print(f\"{t2 - t1} seconds\")"
   ]
  },
  {
   "cell_type": "code",
   "execution_count": 6,
   "metadata": {},
   "outputs": [
    {
     "name": "stdout",
     "output_type": "stream",
     "text": [
      "WARNING: Diagnostic screen was converted with default screen properties.\n",
      "0.1202998161315918 seconds\n"
     ]
    }
   ],
   "source": [
    "segment = cheetah.Segment.from_ocelot(cell)\n",
    "segment.AREABSCR1.is_active = True  # Turn screen on and off\n",
    "\n",
    "particles = cheetah.ParticleBeam.from_parameters(n=int(1e+5), sigma_x=175e-6, sigma_y=175e-6)\n",
    "\n",
    "t1 = time.time()\n",
    "\n",
    "_ = segment(particles)\n",
    "image = segment.AREABSCR1.reading\n",
    "\n",
    "t2 = time.time()\n",
    "\n",
    "print(f\"{t2 - t1} seconds\")"
   ]
  },
  {
   "cell_type": "code",
   "execution_count": 7,
   "metadata": {},
   "outputs": [
    {
     "data": {
      "text/plain": [
       "Segment([Drift(length=0.00, name=\"AREASOLA1\"), Drift(length=0.18, name=\"Drift_AREASOLA1\"), Quadrupole(length=0.12, k1=5.5, name=\"AREAMQZM1\"), Drift(length=0.43, name=\"Drift_AREAMQZM1\"), Quadrupole(length=0.12, k1=-5.5, name=\"AREAMQZM2\"), Drift(length=0.20, name=\"Drift_AREAMQZM2\"), VerticalCorrector(length=0.02, angle=0.0, name=\"AREAMCVM1\"), Drift(length=0.20, name=\"Drift_AREAMCVM1\"), Quadrupole(length=0.12, k1=0.0, name=\"AREAMQZM3\"), Drift(length=0.18, name=\"Drift_AREAMQZM3\"), HorizontalCorrector(length=0.02, angle=0.0, name=\"AREAMCHM1\"), Drift(length=0.45, name=\"Drift_AREAMCHM1\"), Screen(resolution=(2448, 2040), pixel_size=(3.5488e-06, 2.5003e-06), binning=1, name=\"AREABSCR1\")])"
      ]
     },
     "execution_count": 7,
     "metadata": {},
     "output_type": "execute_result"
    }
   ],
   "source": [
    "segment"
   ]
  },
  {
   "cell_type": "code",
   "execution_count": null,
   "metadata": {},
   "outputs": [],
   "source": []
  }
 ],
 "metadata": {
  "interpreter": {
   "hash": "cb0c3e2128e3ec31ec0d90a83c3ce95af788e3d47340cfb20bbf06ca38505d8f"
  },
  "kernelspec": {
   "display_name": "Python 3.7.11 64-bit ('rl37': conda)",
   "name": "python3"
  },
  "language_info": {
   "codemirror_mode": {
    "name": "ipython",
    "version": 3
   },
   "file_extension": ".py",
   "mimetype": "text/x-python",
   "name": "python",
   "nbconvert_exporter": "python",
   "pygments_lexer": "ipython3",
   "version": "3.7.11"
  },
  "orig_nbformat": 2
 },
 "nbformat": 4,
 "nbformat_minor": 2
}
