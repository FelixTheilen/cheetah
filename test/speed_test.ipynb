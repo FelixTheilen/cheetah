{
 "metadata": {
  "language_info": {
   "codemirror_mode": {
    "name": "ipython",
    "version": 3
   },
   "file_extension": ".py",
   "mimetype": "text/x-python",
   "name": "python",
   "nbconvert_exporter": "python",
   "pygments_lexer": "ipython3",
   "version": "3.8.10"
  },
  "orig_nbformat": 2,
  "kernelspec": {
   "name": "python3",
   "display_name": "Python 3.8.10 64-bit"
  },
  "interpreter": {
   "hash": "aee8b7b246df8f9039afb4144a1f6fd8d2ca17a180786b69acc140d282b71a49"
  }
 },
 "nbformat": 4,
 "nbformat_minor": 2,
 "cells": [
  {
   "cell_type": "code",
   "execution_count": 1,
   "source": [
    "import time\n",
    "\n",
    "import gym\n",
    "import accelerator_environments\n",
    "import cheetah\n",
    "import matplotlib.pyplot as plt\n",
    "import numpy as np\n",
    "import ocelot as oc\n",
    "\n",
    "import accelerator_environments.envs.ares.ARESlatticeStage3v1_9 as aresstuff\n",
    "from accelerator_environments import utils"
   ],
   "outputs": [
    {
     "output_type": "stream",
     "name": "stdout",
     "text": [
      "initializing ocelot...\n"
     ]
    }
   ],
   "metadata": {}
  },
  {
   "cell_type": "code",
   "execution_count": 2,
   "source": [
    "binning = 4\n",
    "screen_resolution = (int(2448 / binning), int(2040 / binning))\n",
    "meter_per_pixel = (3.5488e-6 * binning, 2.5003e-6 * binning)\n",
    "screen_bin_edges = (np.linspace(-screen_resolution[0]*meter_per_pixel[0]/2,\n",
    "                                             screen_resolution[0]*meter_per_pixel[0]/2,\n",
    "                                             screen_resolution[0]+1),\n",
    "                                 np.linspace(-screen_resolution[1]*meter_per_pixel[1]/2,\n",
    "                                             screen_resolution[1]*meter_per_pixel[1]/2,\n",
    "                                             screen_resolution[1]+1))\n",
    "\n",
    "\n",
    "cell = utils.subcell_of(aresstuff.cell, \"AREASOLA1\", \"AREABSCR1\")\n",
    "aresstuff.areamqzm1.k1 = 5.5\n",
    "aresstuff.areamqzm2.k1 = -5.5\n",
    "aresstuff.areamqzm3.k1 = 0.0\n",
    "# cell = [oc.Drift(l=3.0), oc.Quadrupole(l=1, k1=0), oc.Drift(l=0), oc.Drift(l=3)]\n",
    "# cell = [oc.Drift(l=3.0)]\n",
    "\n",
    "lattice = oc.MagneticLattice(cell)"
   ],
   "outputs": [],
   "metadata": {}
  },
  {
   "cell_type": "code",
   "execution_count": 3,
   "source": [
    "particles = oc.generate_parray(nparticles=int(1e+5), sigma_x=175e-6, sigma_y=175e-6)\n",
    "\n",
    "t1 = time.time()\n",
    "\n",
    "navigator = oc.Navigator(lattice)\n",
    "_, particles = oc.track(lattice, particles, navigator)\n",
    "image = np.histogram2d(particles.x(), particles.y(),\n",
    "                       bins=screen_bin_edges)[0].transpose()\n",
    "\n",
    "t2 = time.time()\n",
    "\n",
    "print(f\"{t2 - t1} seconds\")"
   ],
   "outputs": [
    {
     "output_type": "stream",
     "name": "stdout",
     "text": [
      "z = 2.0460399999999996 / 2.0460399999999996 : applied: 0.33204102516174316 seconds\n"
     ]
    }
   ],
   "metadata": {}
  },
  {
   "cell_type": "code",
   "execution_count": 4,
   "source": [
    "particles = oc.generate_parray(nparticles=int(1e+5), sigma_x=175e-6, sigma_y=175e-6)\n",
    "\n",
    "t1 = time.time()\n",
    "\n",
    "navigator = oc.Navigator(lattice)\n",
    "navigator.unit_step = lattice.totalLen\n",
    "_, particles = oc.track(lattice, particles, navigator)\n",
    "image = np.histogram2d(particles.x(), particles.y(),\n",
    "                       bins=screen_bin_edges)[0].transpose()\n",
    "\n",
    "t2 = time.time()\n",
    "\n",
    "print(f\"{t2 - t1} seconds\")"
   ],
   "outputs": [
    {
     "output_type": "stream",
     "name": "stdout",
     "text": [
      "z = 2.0460399999999996 / 2.0460399999999996 : applied: 0.4584038257598877 seconds\n"
     ]
    }
   ],
   "metadata": {}
  },
  {
   "cell_type": "code",
   "execution_count": 7,
   "source": [
    "segment = cheetah.Segment.from_ocelot(cell)\n",
    "segment.AREABSCR1.is_active = True  # Turn screen on and off\n",
    "\n",
    "particles = cheetah.Beam.make_random(n=int(1e+5), sigma_x=175e-6, sigma_y=175e-6)\n",
    "\n",
    "t1 = time.time()\n",
    "\n",
    "_ = segment(particles)\n",
    "image = segment.AREABSCR1.reading\n",
    "\n",
    "t2 = time.time()\n",
    "\n",
    "print(f\"{t2 - t1} seconds\")"
   ],
   "outputs": [
    {
     "output_type": "stream",
     "name": "stdout",
     "text": [
      "Element of type <class 'cheetah.accelerator.Drift'> on device cpu\n",
      "Element of type <class 'cheetah.accelerator.Drift'> on device cpu\n",
      "Element of type <class 'cheetah.accelerator.Quadrupole'> on device cpu\n",
      "Element of type <class 'cheetah.accelerator.Drift'> on device cpu\n",
      "Element of type <class 'cheetah.accelerator.Quadrupole'> on device cpu\n",
      "Element of type <class 'cheetah.accelerator.Drift'> on device cpu\n",
      "Element of type <class 'cheetah.accelerator.VerticalCorrector'> on device cpu\n",
      "Element of type <class 'cheetah.accelerator.Drift'> on device cpu\n",
      "Element of type <class 'cheetah.accelerator.Quadrupole'> on device cpu\n",
      "Element of type <class 'cheetah.accelerator.Drift'> on device cpu\n",
      "Element of type <class 'cheetah.accelerator.HorizontalCorrector'> on device cpu\n",
      "Element of type <class 'cheetah.accelerator.Drift'> on device cpu\n",
      "WARNING: Diagnostic screen was converted with default screen properties.\n",
      "Element of type <class 'cheetah.accelerator.Screen'> on device cpu\n",
      "Element of type <class 'cheetah.accelerator.Segment'> on device cpu\n",
      "Element of type <class 'cheetah.accelerator.Segment'> on device cpu\n",
      "0.10835981369018555 seconds\n"
     ]
    }
   ],
   "metadata": {}
  },
  {
   "cell_type": "code",
   "execution_count": null,
   "source": [],
   "outputs": [],
   "metadata": {}
  }
 ]
}