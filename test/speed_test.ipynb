{
 "cells": [
  {
   "cell_type": "code",
   "execution_count": 1,
   "metadata": {},
   "outputs": [
    {
     "name": "stdout",
     "output_type": "stream",
     "text": [
      "math_op.py: module Numba is not installed. Install it if you want speed up correlation calculations\n"
     ]
    },
    {
     "name": "stderr",
     "output_type": "stream",
     "text": [
      "[INFO    ] : : \u001b[0mbeam.py: module NUMBA is not installed. Install it to speed up calculation\u001b[0m\n",
      "[INFO    ] : : \u001b[0mhigh_order.py: module NUMBA is not installed. Install it to speed up calculation\u001b[0m\n",
      "[INFO    ] : : : : : : : : : : : \u001b[0mradiation_py.py: module NUMBA is not installed. Install it to speed up calculation\u001b[0m\n",
      "[INFO    ] \u001b[0mcsr.py: module NUMBA is not installed. Install it to speed up calculation\u001b[0m\n",
      "[INFO    ] \u001b[0mcsr.py: module PYFFTW is not installed. Install it to speed up calculation.\u001b[0m\n",
      "[INFO    ] \u001b[0mcsr.py: module NUMEXPR is not installed. Install it to speed up calculation\u001b[0m\n",
      "[INFO    ] \u001b[0mwake3D.py: module NUMBA is not installed. Install it to speed up calculation\u001b[0m\n"
     ]
    },
    {
     "name": "stdout",
     "output_type": "stream",
     "text": [
      "initializing ocelot...\n",
      "import: module NUMBA is not installed. Install it to speed up calculation\n",
      "import: module PYFFTW is not installed. Install it to speed up calculation\n",
      "import: module NUMEXPR is not installed. Install it to speed up calculation\n"
     ]
    }
   ],
   "source": [
    "import time\n",
    "\n",
    "import cheetah\n",
    "import numpy as np\n",
    "import ocelot as oc\n",
    "\n",
    "import ARESlatticeStage3v1_9 as aresstuff"
   ]
  },
  {
   "cell_type": "code",
   "execution_count": 3,
   "metadata": {},
   "outputs": [],
   "source": [
    "binning = 4\n",
    "screen_resolution = (int(2448 / binning), int(2040 / binning))\n",
    "meter_per_pixel = (3.5488e-6 * binning, 2.5003e-6 * binning)\n",
    "screen_bin_edges = (np.linspace(-screen_resolution[0]*meter_per_pixel[0]/2,\n",
    "                                             screen_resolution[0]*meter_per_pixel[0]/2,\n",
    "                                             screen_resolution[0]+1),\n",
    "                                 np.linspace(-screen_resolution[1]*meter_per_pixel[1]/2,\n",
    "                                             screen_resolution[1]*meter_per_pixel[1]/2,\n",
    "                                             screen_resolution[1]+1))\n",
    "\n",
    "\n",
    "cell = cheetah.utils.subcell_of_ocelot(aresstuff.cell, \"AREASOLA1\", \"AREABSCR1\")\n",
    "aresstuff.areamqzm1.k1 = 5.5\n",
    "aresstuff.areamqzm2.k1 = -5.5\n",
    "aresstuff.areamqzm3.k1 = 0.0\n",
    "# cell = [oc.Drift(l=3.0), oc.Quadrupole(l=1, k1=0), oc.Drift(l=0), oc.Drift(l=3)]\n",
    "# cell = [oc.Drift(l=3.0)]\n",
    "\n",
    "lattice = oc.MagneticLattice(cell)"
   ]
  },
  {
   "cell_type": "code",
   "execution_count": 4,
   "metadata": {},
   "outputs": [
    {
     "name": "stdout",
     "output_type": "stream",
     "text": [
      "z = 2.0460399999999996 / 2.0460399999999996 : applied:  0.2719879150390625 seconds\n"
     ]
    }
   ],
   "source": [
    "particles = oc.generate_parray(nparticles=int(1e+5), sigma_x=175e-6, sigma_y=175e-6)\n",
    "\n",
    "t1 = time.time()\n",
    "\n",
    "navigator = oc.Navigator(lattice)\n",
    "_, particles = oc.track(lattice, particles, navigator)\n",
    "image = np.histogram2d(particles.x(), particles.y(),\n",
    "                       bins=screen_bin_edges)[0].transpose()\n",
    "\n",
    "t2 = time.time()\n",
    "\n",
    "print(f\"{t2 - t1} seconds\")"
   ]
  },
  {
   "cell_type": "code",
   "execution_count": 5,
   "metadata": {},
   "outputs": [
    {
     "name": "stdout",
     "output_type": "stream",
     "text": [
      "z = 2.0460399999999996 / 2.0460399999999996 : applied:  0.2255399227142334 seconds\n"
     ]
    }
   ],
   "source": [
    "particles = oc.generate_parray(nparticles=int(1e+5), sigma_x=175e-6, sigma_y=175e-6)\n",
    "\n",
    "t1 = time.time()\n",
    "\n",
    "navigator = oc.Navigator(lattice)\n",
    "navigator.unit_step = lattice.totalLen\n",
    "_, particles = oc.track(lattice, particles, navigator)\n",
    "image = np.histogram2d(particles.x(), particles.y(),\n",
    "                       bins=screen_bin_edges)[0].transpose()\n",
    "\n",
    "t2 = time.time()\n",
    "\n",
    "print(f\"{t2 - t1} seconds\")"
   ]
  },
  {
   "cell_type": "code",
   "execution_count": 6,
   "metadata": {},
   "outputs": [
    {
     "name": "stdout",
     "output_type": "stream",
     "text": [
      "WARNING: Diagnostic screen was converted with default screen properties.\n",
      "0.021596193313598633 seconds\n"
     ]
    }
   ],
   "source": [
    "segment = cheetah.Segment.from_ocelot(cell)\n",
    "segment.AREABSCR1.is_active = True  # Turn screen on and off\n",
    "\n",
    "particles = cheetah.ParticleBeam.from_parameters(n=int(1e+5), sigma_x=175e-6, sigma_y=175e-6)\n",
    "\n",
    "t1 = time.time()\n",
    "\n",
    "_ = segment(particles)\n",
    "image = segment.AREABSCR1.reading\n",
    "\n",
    "t2 = time.time()\n",
    "\n",
    "print(f\"{t2 - t1} seconds\")"
   ]
  },
  {
   "cell_type": "code",
   "execution_count": 7,
   "metadata": {},
   "outputs": [
    {
     "data": {
      "text/plain": [
       "Segment([Drift(length=0.00, name=\"AREASOLA1\"), Drift(length=0.18, name=\"Drift_AREASOLA1\"), Quadrupole(length=0.12, k1=5.5, misalignment=(0, 0), name=\"AREAMQZM1\"), Drift(length=0.43, name=\"Drift_AREAMQZM1\"), Quadrupole(length=0.12, k1=-5.5, misalignment=(0, 0), name=\"AREAMQZM2\"), Drift(length=0.20, name=\"Drift_AREAMQZM2\"), VerticalCorrector(length=0.02, angle=0.0, name=\"AREAMCVM1\"), Drift(length=0.20, name=\"Drift_AREAMCVM1\"), Quadrupole(length=0.12, k1=0.0, misalignment=(0, 0), name=\"AREAMQZM3\"), Drift(length=0.18, name=\"Drift_AREAMQZM3\"), HorizontalCorrector(length=0.02, angle=0.0, name=\"AREAMCHM1\"), Drift(length=0.45, name=\"Drift_AREAMCHM1\"), Screen(resolution=(2448, 2040), pixel_size=(3.5488e-06, 2.5003e-06), binning=1, misalignment=(0, 0), name=\"AREABSCR1\")])"
      ]
     },
     "execution_count": 7,
     "metadata": {},
     "output_type": "execute_result"
    }
   ],
   "source": [
    "segment"
   ]
  },
  {
   "cell_type": "code",
   "execution_count": null,
   "metadata": {},
   "outputs": [],
   "source": []
  }
 ],
 "metadata": {
  "kernelspec": {
   "display_name": "Python 3.9.13 ('cheetah-test')",
   "language": "python",
   "name": "python3"
  },
  "language_info": {
   "codemirror_mode": {
    "name": "ipython",
    "version": 3
   },
   "file_extension": ".py",
   "mimetype": "text/x-python",
   "name": "python",
   "nbconvert_exporter": "python",
   "pygments_lexer": "ipython3",
   "version": "3.9.13"
  },
  "orig_nbformat": 2,
  "vscode": {
   "interpreter": {
    "hash": "947d9ee3b458d99f0eb80dac10135f6d6a35887bd0ce9fb941e727a4631c373a"
   }
  }
 },
 "nbformat": 4,
 "nbformat_minor": 2
}
