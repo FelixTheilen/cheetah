{
 "cells": [
  {
   "cell_type": "code",
   "execution_count": 1,
   "metadata": {},
   "outputs": [
    {
     "name": "stdout",
     "output_type": "stream",
     "text": [
      "initializing ocelot...\n"
     ]
    }
   ],
   "source": [
    "import cheetah"
   ]
  },
  {
   "cell_type": "code",
   "execution_count": 2,
   "metadata": {},
   "outputs": [
    {
     "data": {
      "text/plain": [
       "Beam(n=100000, mu_x=5.5907656976161846e-11, mu_xp=1.614541389471924e-09, mu_y=2.2206594896267973e-10, mu_yp=-2.0902442277037636e-10, sigma_x=1.7509184147002088e-07, sigma_xp=1.9993288447039959e-07, sigma_y=1.7501629656635487e-07, sigma_yp=1.9922087801660382e-07, sigma_s=1.0019161891250405e-06, sigma_p=1.0026349173131166e-06, energy=100000000.0)"
      ]
     },
     "execution_count": 2,
     "metadata": {},
     "output_type": "execute_result"
    }
   ],
   "source": [
    "beam = cheetah.Beam.make_random(sigma_x=175e-9, sigma_y=175e-9)\n",
    "beam"
   ]
  },
  {
   "cell_type": "code",
   "execution_count": 3,
   "metadata": {},
   "outputs": [
    {
     "data": {
      "text/plain": [
       "Beam(n=100000, mu_x=5.8058648166881e-11, mu_xp=1.6145409453827142e-09, mu_y=2.2206597671825534e-10, mu_yp=-2.0902471420392033e-10, sigma_x=0.0001230000052601099, sigma_xp=1.9993288447039959e-07, sigma_y=1.7501629656635487e-07, sigma_yp=1.9922087801660382e-07, sigma_s=1.0019161891250405e-06, sigma_p=1.0026349173131166e-06, energy=100000000.0)"
      ]
     },
     "execution_count": 3,
     "metadata": {},
     "output_type": "execute_result"
    }
   ],
   "source": [
    "beam2 = beam.transformed_to(sigma_x=123e-6)\n",
    "beam2"
   ]
  },
  {
   "cell_type": "code",
   "execution_count": null,
   "metadata": {},
   "outputs": [],
   "source": []
  }
 ],
 "metadata": {
  "interpreter": {
   "hash": "aee8b7b246df8f9039afb4144a1f6fd8d2ca17a180786b69acc140d282b71a49"
  },
  "kernelspec": {
   "display_name": "Python 3",
   "language": "python",
   "name": "python3"
  },
  "language_info": {
   "codemirror_mode": {
    "name": "ipython",
    "version": 3
   },
   "file_extension": ".py",
   "mimetype": "text/x-python",
   "name": "python",
   "nbconvert_exporter": "python",
   "pygments_lexer": "ipython3",
   "version": "3.8.10"
  },
  "metadata": {
   "interpreter": {
    "hash": "aee8b7b246df8f9039afb4144a1f6fd8d2ca17a180786b69acc140d282b71a49"
   }
  }
 },
 "nbformat": 4,
 "nbformat_minor": 4
}
