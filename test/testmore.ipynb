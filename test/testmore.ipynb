{
 "cells": [
  {
   "cell_type": "code",
   "execution_count": 1,
   "metadata": {},
   "outputs": [],
   "source": [
    "import cheetah\n",
    "import matplotlib.pyplot as plt\n",
    "\n",
    "import ARESlatticeStage3v1_9 as lattice"
   ]
  },
  {
   "cell_type": "code",
   "execution_count": 2,
   "metadata": {},
   "outputs": [
    {
     "name": "stdout",
     "output_type": "stream",
     "text": [
      "ParameterBeam(mu_x=0.000001, mu_xp=0.000000, mu_y=-0.000002, mu_yp=-0.000000, sigma_x=0.000175, sigma_xp=0.000004, sigma_y=0.000175, sigma_yp=0.000004, sigma_s=0.000008, sigma_p=0.002280, energy=107315902.444)\n",
      "ParticleBeam(n=100000, mu_x=0.000001, mu_xp=0.000000, mu_y=-0.000002, mu_yp=-0.000000, sigma_x=0.000175, sigma_xp=0.000004, sigma_y=0.000175, sigma_yp=0.000004, sigma_s=0.000008, sigma_p=0.002280, energy=107315902.444)\n"
     ]
    }
   ],
   "source": [
    "beam1 = cheetah.ParameterBeam.from_astra(\"../distributions/ACHIP_EA1_2021.1351.001\")\n",
    "print(beam1)\n",
    "beam2 = cheetah.ParticleBeam.from_astra(\"../distributions/ACHIP_EA1_2021.1351.001\")\n",
    "print(beam2)"
   ]
  },
  {
   "cell_type": "code",
   "execution_count": 3,
   "metadata": {},
   "outputs": [
    {
     "name": "stdout",
     "output_type": "stream",
     "text": [
      "WARNING: Diagnostic screen was converted with default screen properties.\n",
      "WARNING: Diagnostic screen was converted with default screen properties.\n",
      "WARNING: Diagnostic screen was converted with default screen properties.\n",
      "WARNING: Diagnostic screen was converted with default screen properties.\n",
      "WARNING: Diagnostic screen was converted with default screen properties.\n",
      "WARNING: Diagnostic screen was converted with default screen properties.\n",
      "WARNING: Diagnostic screen was converted with default screen properties.\n",
      "WARNING: Diagnostic screen was converted with default screen properties.\n"
     ]
    },
    {
     "data": {
      "text/plain": [
       "Segment([Drift(length=0.00, name=\"AREASOLA1\"), Drift(length=0.18, name=\"Drift_AREASOLA1\"), Quadrupole(length=0.12, k1=3.1, name=\"AREAMQZM1\"), Drift(length=0.43, name=\"Drift_AREAMQZM1\"), Quadrupole(length=0.12, k1=-3.1, name=\"AREAMQZM2\"), Drift(length=0.20, name=\"Drift_AREAMQZM2\"), VerticalCorrector(length=0.02, angle=0.001, name=\"AREAMCVM1\"), Drift(length=0.20, name=\"Drift_AREAMCVM1\"), Quadrupole(length=0.12, k1=4.2, name=\"AREAMQZM3\"), Drift(length=0.18, name=\"Drift_AREAMQZM3\"), HorizontalCorrector(length=0.02, angle=0.002, name=\"AREAMCHM1\"), Drift(length=0.45, name=\"Drift_AREAMCHM1\"), Screen(resolution=(2448, 2040), pixel_size=(3.5488e-06, 2.5003e-06), binning=4, misalignment=(0, 0), name=\"AREABSCR1\")])"
      ]
     },
     "execution_count": 3,
     "metadata": {},
     "output_type": "execute_result"
    }
   ],
   "source": [
    "segment = cheetah.Segment.from_ocelot(lattice.cell).subcell(\"AREASOLA1\", \"AREABSCR1\")\n",
    "segment.AREABSCR1.binning = 4\n",
    "segment.AREABSCR1.is_active = False\n",
    "segment.AREAMQZM1.k1 = 3.1\n",
    "segment.AREAMQZM2.k1 = -3.1\n",
    "segment.AREAMCVM1.angle = 1e-3\n",
    "segment.AREAMQZM3.k1 = 4.2\n",
    "segment.AREAMCHM1.angle = 2e-3\n",
    "segment"
   ]
  },
  {
   "cell_type": "code",
   "execution_count": 4,
   "metadata": {},
   "outputs": [
    {
     "name": "stdout",
     "output_type": "stream",
     "text": [
      "ParameterBeam(mu_x=0.000900, mu_xp=0.002000, mu_y=0.001069, mu_yp=0.001136, sigma_x=0.000081, sigma_xp=0.000078, sigma_y=0.000278, sigma_yp=0.000098, sigma_s=0.000008, sigma_p=0.002280, energy=107315902.444)\n",
      "ParticleBeam(n=100000, mu_x=0.000900, mu_xp=0.002000, mu_y=0.001069, mu_yp=0.001136, sigma_x=0.000081, sigma_xp=0.000078, sigma_y=0.000278, sigma_yp=0.000098, sigma_s=0.000008, sigma_p=0.002280, energy=107315902.444)\n"
     ]
    }
   ],
   "source": [
    "result1 = segment(beam1)\n",
    "print(result1)\n",
    "result2 = segment(beam2)\n",
    "print(result2)"
   ]
  },
  {
   "cell_type": "code",
   "execution_count": 5,
   "metadata": {},
   "outputs": [],
   "source": [
    "segment.AREABSCR1.is_active = True"
   ]
  },
  {
   "cell_type": "code",
   "execution_count": 6,
   "metadata": {},
   "outputs": [
    {
     "name": "stdout",
     "output_type": "stream",
     "text": [
      "I'm an empty beam!\n",
      "I'm an empty beam!\n"
     ]
    },
    {
     "data": {
      "image/png": "[encoded data removed]",
      "text/plain": [
       "<Figure size 864x288 with 2 Axes>"
      ]
     },
     "metadata": {
      "needs_background": "light"
     },
     "output_type": "display_data"
    }
   ],
   "source": [
    "plt.figure(figsize=(12,4))\n",
    "\n",
    "result1 = segment(beam1)\n",
    "print(result1)\n",
    "plt.subplot(121)\n",
    "plt.imshow(segment.AREABSCR1.reading, interpolation=\"None\", extent=segment.AREABSCR1.extent)\n",
    "\n",
    "result2 = segment(beam2)\n",
    "print(result2)\n",
    "plt.subplot(122)\n",
    "plt.imshow(segment.AREABSCR1.reading, interpolation=\"None\", extent=segment.AREABSCR1.extent)\n",
    "\n",
    "plt.tight_layout()\n",
    "plt.show()"
   ]
  },
  {
   "cell_type": "code",
   "execution_count": 8,
   "metadata": {},
   "outputs": [],
   "source": [
    "segment.AREABSCR1.misalignment = (0.002, 0)"
   ]
  },
  {
   "cell_type": "code",
   "execution_count": 9,
   "metadata": {},
   "outputs": [
    {
     "name": "stdout",
     "output_type": "stream",
     "text": [
      "ParameterBeam(mu_x=-0.001100, mu_xp=0.002000, mu_y=0.001069, mu_yp=0.001136, sigma_x=0.000081, sigma_xp=0.000078, sigma_y=0.000278, sigma_yp=0.000098, sigma_s=0.000008, sigma_p=0.002280, energy=107315902.444)\n",
      "ParticleBeam(n=100000, mu_x=-0.001100, mu_xp=0.002000, mu_y=0.001069, mu_yp=0.001136, sigma_x=0.000081, sigma_xp=0.000078, sigma_y=0.000278, sigma_yp=0.000098, sigma_s=0.000008, sigma_p=0.002280, energy=107315902.444)\n"
     ]
    },
    {
     "data": {
      "image/png": "[encoded data removed]",
      "text/plain": [
       "<Figure size 864x288 with 2 Axes>"
      ]
     },
     "metadata": {
      "needs_background": "light"
     },
     "output_type": "display_data"
    }
   ],
   "source": [
    "plt.figure(figsize=(12,4))\n",
    "\n",
    "result1 = segment(beam1)\n",
    "print(segment.AREABSCR1.read_beam)\n",
    "plt.subplot(121)\n",
    "plt.imshow(segment.AREABSCR1.reading, interpolation=\"None\", extent=segment.AREABSCR1.extent)\n",
    "\n",
    "result2 = segment(beam2)\n",
    "print(segment.AREABSCR1.read_beam)\n",
    "plt.subplot(122)\n",
    "plt.imshow(segment.AREABSCR1.reading, interpolation=\"None\", extent=segment.AREABSCR1.extent)\n",
    "\n",
    "plt.tight_layout()\n",
    "plt.show()"
   ]
  },
  {
   "cell_type": "code",
   "execution_count": null,
   "metadata": {},
   "outputs": [],
   "source": []
  }
 ],
 "metadata": {
  "interpreter": {
   "hash": "cb0c3e2128e3ec31ec0d90a83c3ce95af788e3d47340cfb20bbf06ca38505d8f"
  },
  "kernelspec": {
   "display_name": "Python 3.7.11 64-bit ('rl37': conda)",
   "name": "python3"
  },
  "language_info": {
   "codemirror_mode": {
    "name": "ipython",
    "version": 3
   },
   "file_extension": ".py",
   "mimetype": "text/x-python",
   "name": "python",
   "nbconvert_exporter": "python",
   "pygments_lexer": "ipython3",
   "version": "3.7.11"
  },
  "orig_nbformat": 4
 },
 "nbformat": 4,
 "nbformat_minor": 2
}
