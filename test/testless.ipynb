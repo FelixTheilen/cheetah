{
 "cells": [
  {
   "cell_type": "code",
   "execution_count": 1,
   "metadata": {},
   "outputs": [],
   "source": [
    "import cheetah\n",
    "import numpy as np"
   ]
  },
  {
   "cell_type": "code",
   "execution_count": 2,
   "metadata": {},
   "outputs": [
    {
     "name": "stdout",
     "output_type": "stream",
     "text": [
      "ParameterBeam(mu_x=0.000001, mu_xp=0.000000, mu_y=-0.000002, mu_yp=-0.000000, sigma_x=0.000175, sigma_xp=0.000004, sigma_y=0.000175, sigma_yp=0.000004, sigma_s=0.000008, sigma_p=0.002280, energy=107315902.444)\n",
      "ParticleBeam(n=100000, mu_x=0.000001, mu_xp=0.000000, mu_y=-0.000002, mu_yp=-0.000000, sigma_x=0.000175, sigma_xp=0.000004, sigma_y=0.000175, sigma_yp=0.000004, sigma_s=0.000008, sigma_p=0.002280, energy=107315902.444)\n"
     ]
    }
   ],
   "source": [
    "beam1 = cheetah.ParameterBeam.from_astra(\"../distributions/ACHIP_EA1_2021.1351.001\")\n",
    "print(beam1)\n",
    "beam2 = cheetah.ParticleBeam.from_astra(\"../distributions/ACHIP_EA1_2021.1351.001\")\n",
    "print(beam2)"
   ]
  },
  {
   "cell_type": "code",
   "execution_count": 3,
   "metadata": {},
   "outputs": [
    {
     "data": {
      "text/plain": [
       "tensor([ 8.2413e-07,  5.9885e-08, -1.7276e-06, -1.1746e-07,  5.7250e-06,\n",
       "         3.8292e-04,  1.0000e+00])"
      ]
     },
     "execution_count": 3,
     "metadata": {},
     "output_type": "execute_result"
    }
   ],
   "source": [
    "beam1._mu"
   ]
  },
  {
   "cell_type": "code",
   "execution_count": 4,
   "metadata": {},
   "outputs": [
    {
     "data": {
      "text/plain": [
       "tensor([ 8.2413e-07,  5.9885e-08, -1.7276e-06, -1.1746e-07,  5.7250e-06,\n",
       "         3.8292e-04,  1.0000e+00])"
      ]
     },
     "execution_count": 4,
     "metadata": {},
     "output_type": "execute_result"
    }
   ],
   "source": [
    "beam2.particles.mean(axis=0)"
   ]
  },
  {
   "cell_type": "code",
   "execution_count": 5,
   "metadata": {},
   "outputs": [
    {
     "data": {
      "text/plain": [
       "tensor([1.0000, 1.0000, 1.0000, 1.0000, 1.0000, 1.0000, 1.0000])"
      ]
     },
     "execution_count": 5,
     "metadata": {},
     "output_type": "execute_result"
    }
   ],
   "source": [
    "beam1._mu / beam2.particles.mean(axis=0)"
   ]
  },
  {
   "cell_type": "code",
   "execution_count": 6,
   "metadata": {},
   "outputs": [
    {
     "data": {
      "text/plain": [
       "tensor([1.0000, 1.0000, 1.0000, 1.0000, 1.0000, 1.0000, 1.0000])"
      ]
     },
     "execution_count": 6,
     "metadata": {},
     "output_type": "execute_result"
    }
   ],
   "source": [
    "beam2.particles.mean(axis=0) / beam1._mu"
   ]
  },
  {
   "cell_type": "code",
   "execution_count": 7,
   "metadata": {},
   "outputs": [
    {
     "name": "stderr",
     "output_type": "stream",
     "text": [
      "ipykernel_launcher:1: RuntimeWarning: invalid value encountered in true_divide\n"
     ]
    },
    {
     "data": {
      "text/plain": [
       "tensor([[1.0000, 1.0000, 1.0000, 1.0000, 1.0000, 1.0000,    nan],\n",
       "        [1.0000, 1.0000, 1.0000, 1.0000, 1.0000, 1.0000,    nan],\n",
       "        [1.0000, 1.0000, 1.0000, 1.0000, 1.0000, 1.0000,    nan],\n",
       "        [1.0000, 1.0000, 1.0000, 1.0000, 1.0000, 1.0000,    nan],\n",
       "        [1.0000, 1.0000, 1.0000, 1.0000, 1.0000, 1.0000,    nan],\n",
       "        [1.0000, 1.0000, 1.0000, 1.0000, 1.0000, 1.0000,    nan],\n",
       "        [   nan,    nan,    nan,    nan,    nan,    nan,    nan]],\n",
       "       dtype=torch.float64)"
      ]
     },
     "execution_count": 7,
     "metadata": {},
     "output_type": "execute_result"
    }
   ],
   "source": [
    "beam1._cov / np.cov(beam2.particles.t().numpy())"
   ]
  },
  {
   "cell_type": "code",
   "execution_count": 8,
   "metadata": {},
   "outputs": [
    {
     "name": "stderr",
     "output_type": "stream",
     "text": [
      "/usr/local/Caskroom/miniconda/base/envs/rl37/lib/python3.7/site-packages/torch/_tensor.py:549: RuntimeWarning: invalid value encountered in multiply\n",
      "  return self.reciprocal() * other\n"
     ]
    },
    {
     "data": {
      "text/plain": [
       "tensor([[1.0000, 1.0000, 1.0000, 1.0000, 1.0000, 1.0000,    nan],\n",
       "        [1.0000, 1.0000, 1.0000, 1.0000, 1.0000, 1.0000,    nan],\n",
       "        [1.0000, 1.0000, 1.0000, 1.0000, 1.0000, 1.0000,    nan],\n",
       "        [1.0000, 1.0000, 1.0000, 1.0000, 1.0000, 1.0000,    nan],\n",
       "        [1.0000, 1.0000, 1.0000, 1.0000, 1.0000, 1.0000,    nan],\n",
       "        [1.0000, 1.0000, 1.0000, 1.0000, 1.0000, 1.0000,    nan],\n",
       "        [   nan,    nan,    nan,    nan,    nan,    nan,    nan]],\n",
       "       dtype=torch.float64)"
      ]
     },
     "execution_count": 8,
     "metadata": {},
     "output_type": "execute_result"
    }
   ],
   "source": [
    "np.cov(beam2.particles.t().numpy()) / beam1._cov"
   ]
  },
  {
   "cell_type": "code",
   "execution_count": 9,
   "metadata": {},
   "outputs": [],
   "source": [
    "segment = cheetah.Segment([\n",
    "    cheetah.HorizontalCorrector(length=0.02, name=\"quad\"),\n",
    "    cheetah.Drift(length=2.0)\n",
    "])\n",
    "segment.quad.angle = 2e-3"
   ]
  },
  {
   "cell_type": "code",
   "execution_count": 10,
   "metadata": {},
   "outputs": [
    {
     "name": "stdout",
     "output_type": "stream",
     "text": [
      "ParameterBeam(mu_x=0.004001, mu_xp=0.002000, mu_y=-0.000002, mu_yp=-0.000000, sigma_x=0.000181, sigma_xp=0.000004, sigma_y=0.000182, sigma_yp=0.000004, sigma_s=0.000008, sigma_p=0.002280, energy=107315902.444)\n",
      "ParticleBeam(n=100000, mu_x=0.004001, mu_xp=0.002000, mu_y=-0.000002, mu_yp=-0.000000, sigma_x=0.000181, sigma_xp=0.000004, sigma_y=0.000182, sigma_yp=0.000004, sigma_s=0.000008, sigma_p=0.002280, energy=107315902.444)\n"
     ]
    }
   ],
   "source": [
    "result1 = segment(beam1)\n",
    "print(result1)\n",
    "result2 = segment(beam2)\n",
    "print(result2)"
   ]
  },
  {
   "cell_type": "code",
   "execution_count": 5,
   "metadata": {},
   "outputs": [
    {
     "data": {
      "text/plain": [
       "tensor([ 9.4509e-07,  5.9885e-08, -1.9649e-06, -1.1746e-07,  5.7424e-06,\n",
       "         3.8292e-04,  0.0000e+00])"
      ]
     },
     "execution_count": 5,
     "metadata": {},
     "output_type": "execute_result"
    }
   ],
   "source": [
    "result1._mu"
   ]
  },
  {
   "cell_type": "code",
   "execution_count": 7,
   "metadata": {},
   "outputs": [
    {
     "data": {
      "text/plain": [
       "tensor([ 4.0009e-03,  2.0001e-03, -1.9649e-06, -1.1746e-07,  5.7424e-06,\n",
       "         3.8292e-04,  1.0000e+00])"
      ]
     },
     "execution_count": 7,
     "metadata": {},
     "output_type": "execute_result"
    }
   ],
   "source": [
    "result2.particles.mean(axis=0)"
   ]
  },
  {
   "cell_type": "code",
   "execution_count": 13,
   "metadata": {},
   "outputs": [
    {
     "data": {
      "text/plain": [
       "tensor([2.3622e-04, 2.9941e-05, 1.0000e+00, 1.0000e+00, 1.0000e+00, 1.0000e+00,\n",
       "        0.0000e+00])"
      ]
     },
     "execution_count": 13,
     "metadata": {},
     "output_type": "execute_result"
    }
   ],
   "source": [
    "result1._mu / result2.particles.mean(axis=0)"
   ]
  },
  {
   "cell_type": "code",
   "execution_count": 14,
   "metadata": {},
   "outputs": [
    {
     "data": {
      "text/plain": [
       "tensor([4.2334e+03, 3.3398e+04, 1.0000e+00, 1.0000e+00, 1.0000e+00, 1.0000e+00,\n",
       "               inf])"
      ]
     },
     "execution_count": 14,
     "metadata": {},
     "output_type": "execute_result"
    }
   ],
   "source": [
    "result2.particles.mean(axis=0) / result1._mu"
   ]
  },
  {
   "cell_type": "code",
   "execution_count": 6,
   "metadata": {},
   "outputs": [
    {
     "data": {
      "text/plain": [
       "tensor([[ 3.2894e-08,  5.8414e-10,  1.4744e-12,  2.3421e-13, -7.1441e-13,\n",
       "         -7.8546e-12,  0.0000e+00],\n",
       "        [ 5.8414e-10,  1.3538e-11,  1.1174e-13,  6.4855e-15, -3.6899e-14,\n",
       "         -8.0708e-14,  0.0000e+00],\n",
       "        [ 1.4744e-12,  1.1174e-13,  3.3015e-08,  5.8832e-10,  7.3648e-13,\n",
       "          4.4786e-11,  0.0000e+00],\n",
       "        [ 2.3421e-13,  6.4855e-15,  5.8832e-10,  1.3646e-11,  6.4695e-14,\n",
       "          5.3652e-12,  0.0000e+00],\n",
       "        [-7.1441e-13, -3.6899e-14,  7.3648e-13,  6.4695e-14,  6.4468e-11,\n",
       "          3.2398e-09,  0.0000e+00],\n",
       "        [-7.8546e-12, -8.0708e-14,  4.4786e-11,  5.3652e-12,  3.2398e-09,\n",
       "          5.2005e-06,  0.0000e+00],\n",
       "        [ 0.0000e+00,  0.0000e+00,  0.0000e+00,  0.0000e+00,  0.0000e+00,\n",
       "          0.0000e+00,  0.0000e+00]])"
      ]
     },
     "execution_count": 6,
     "metadata": {},
     "output_type": "execute_result"
    }
   ],
   "source": [
    "result1._cov"
   ]
  },
  {
   "cell_type": "code",
   "execution_count": 9,
   "metadata": {},
   "outputs": [
    {
     "data": {
      "text/plain": [
       "array([[ 3.28939465e-08,  5.84137324e-10,  1.47451999e-12,\n",
       "         2.34217035e-13, -7.14414148e-13, -7.85580459e-12,\n",
       "         0.00000000e+00],\n",
       "       [ 5.84137324e-10,  1.35379983e-11,  1.11718185e-13,\n",
       "         6.48437255e-15, -3.68973967e-14, -8.13532478e-14,\n",
       "         0.00000000e+00],\n",
       "       [ 1.47451999e-12,  1.11718185e-13,  3.30145887e-08,\n",
       "         5.88324249e-10,  7.36476735e-13,  4.47858479e-11,\n",
       "         0.00000000e+00],\n",
       "       [ 2.34217035e-13,  6.48437255e-15,  5.88324249e-10,\n",
       "         1.36463749e-11,  6.46948022e-14,  5.36516751e-12,\n",
       "         0.00000000e+00],\n",
       "       [-7.14414148e-13, -3.68973967e-14,  7.36476735e-13,\n",
       "         6.46948022e-14,  6.44681053e-11,  3.23982437e-09,\n",
       "         0.00000000e+00],\n",
       "       [-7.85580459e-12, -8.13532478e-14,  4.47858479e-11,\n",
       "         5.36516751e-12,  3.23982437e-09,  5.20046739e-06,\n",
       "         0.00000000e+00],\n",
       "       [ 0.00000000e+00,  0.00000000e+00,  0.00000000e+00,\n",
       "         0.00000000e+00,  0.00000000e+00,  0.00000000e+00,\n",
       "         0.00000000e+00]])"
      ]
     },
     "execution_count": 9,
     "metadata": {},
     "output_type": "execute_result"
    }
   ],
   "source": [
    "np.cov(result2.particles.t().numpy())"
   ]
  },
  {
   "cell_type": "code",
   "execution_count": 10,
   "metadata": {},
   "outputs": [
    {
     "name": "stderr",
     "output_type": "stream",
     "text": [
      "ipykernel_launcher:1: RuntimeWarning: invalid value encountered in true_divide\n"
     ]
    },
    {
     "data": {
      "text/plain": [
       "tensor([[1.0000, 1.0000, 0.9999, 1.0000, 1.0000, 0.9998,    nan],\n",
       "        [1.0000, 1.0000, 1.0002, 1.0002, 1.0001, 0.9921,    nan],\n",
       "        [0.9999, 1.0002, 1.0000, 1.0000, 1.0000, 1.0000,    nan],\n",
       "        [1.0000, 1.0002, 1.0000, 1.0000, 1.0000, 1.0000,    nan],\n",
       "        [1.0000, 1.0001, 1.0000, 1.0000, 1.0000, 1.0000,    nan],\n",
       "        [0.9998, 0.9921, 1.0000, 1.0000, 1.0000, 1.0000,    nan],\n",
       "        [   nan,    nan,    nan,    nan,    nan,    nan,    nan]],\n",
       "       dtype=torch.float64)"
      ]
     },
     "execution_count": 10,
     "metadata": {},
     "output_type": "execute_result"
    }
   ],
   "source": [
    "result1._cov / np.cov(result2.particles.t().numpy())"
   ]
  },
  {
   "cell_type": "code",
   "execution_count": 12,
   "metadata": {},
   "outputs": [
    {
     "name": "stderr",
     "output_type": "stream",
     "text": [
      "/usr/local/Caskroom/miniconda/base/envs/rl37/lib/python3.7/site-packages/torch/_tensor.py:549: RuntimeWarning: invalid value encountered in multiply\n",
      "  return self.reciprocal() * other\n"
     ]
    },
    {
     "data": {
      "text/plain": [
       "tensor([[1.0000, 1.0000, 1.0001, 1.0000, 1.0000, 1.0002,    nan],\n",
       "        [1.0000, 1.0000, 0.9998, 0.9998, 0.9999, 1.0080,    nan],\n",
       "        [1.0001, 0.9998, 1.0000, 1.0000, 1.0000, 1.0000,    nan],\n",
       "        [1.0000, 0.9998, 1.0000, 1.0000, 1.0000, 1.0000,    nan],\n",
       "        [1.0000, 0.9999, 1.0000, 1.0000, 1.0000, 1.0000,    nan],\n",
       "        [1.0002, 1.0080, 1.0000, 1.0000, 1.0000, 1.0000,    nan],\n",
       "        [   nan,    nan,    nan,    nan,    nan,    nan,    nan]],\n",
       "       dtype=torch.float64)"
      ]
     },
     "execution_count": 12,
     "metadata": {},
     "output_type": "execute_result"
    }
   ],
   "source": [
    "np.cov(result2.particles.t().numpy()) / result1._cov"
   ]
  },
  {
   "cell_type": "code",
   "execution_count": null,
   "metadata": {},
   "outputs": [],
   "source": []
  }
 ],
 "metadata": {
  "interpreter": {
   "hash": "cb0c3e2128e3ec31ec0d90a83c3ce95af788e3d47340cfb20bbf06ca38505d8f"
  },
  "kernelspec": {
   "display_name": "Python 3.7.11 64-bit ('rl37': conda)",
   "name": "python3"
  },
  "language_info": {
   "codemirror_mode": {
    "name": "ipython",
    "version": 3
   },
   "file_extension": ".py",
   "mimetype": "text/x-python",
   "name": "python",
   "nbconvert_exporter": "python",
   "pygments_lexer": "ipython3",
   "version": "3.7.11"
  },
  "orig_nbformat": 4
 },
 "nbformat": 4,
 "nbformat_minor": 2
}
