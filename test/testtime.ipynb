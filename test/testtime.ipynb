{
 "cells": [
  {
   "cell_type": "code",
   "execution_count": 21,
   "metadata": {},
   "outputs": [],
   "source": [
    "import cheetah\n",
    "\n",
    "import ARESlatticeStage3v1_9 as lattice"
   ]
  },
  {
   "cell_type": "code",
   "execution_count": 2,
   "metadata": {},
   "outputs": [],
   "source": [
    "beam1 = cheetah.ParameterBeam.from_astra(\"../distributions/ACHIP_EA1_2021.1351.001\")\n",
    "beam2 = cheetah.ParticleBeam.from_astra(\"../distributions/ACHIP_EA1_2021.1351.001\")"
   ]
  },
  {
   "cell_type": "code",
   "execution_count": 13,
   "metadata": {},
   "outputs": [],
   "source": [
    "segment = cheetah.Segment.from_ocelot(lattice.cell, warnings=False).subcell(\"AREASOLA1\", \"AREABSCR1\")\n",
    "segment.AREABSCR1.binning = 4\n",
    "segment.AREABSCR1.is_active = False\n",
    "segment.AREAMQZM1.k1 = 3.1\n",
    "segment.AREAMQZM2.k1 = -3.1\n",
    "segment.AREAMCVM1.angle = 1e-3\n",
    "segment.AREAMQZM3.k1 = 4.2\n",
    "segment.AREAMCHM1.angle = 2e-3"
   ]
  },
  {
   "cell_type": "code",
   "execution_count": 14,
   "metadata": {},
   "outputs": [
    {
     "name": "stdout",
     "output_type": "stream",
     "text": [
      "357 µs ± 15.1 µs per loop (mean ± std. dev. of 7 runs, 1000 loops each)\n"
     ]
    }
   ],
   "source": [
    "%%timeit\n",
    "result1 = segment(beam1)"
   ]
  },
  {
   "cell_type": "code",
   "execution_count": 15,
   "metadata": {},
   "outputs": [
    {
     "name": "stdout",
     "output_type": "stream",
     "text": [
      "774 µs ± 10.7 µs per loop (mean ± std. dev. of 7 runs, 1000 loops each)\n"
     ]
    }
   ],
   "source": [
    "%%timeit\n",
    "result2 = segment(beam2)"
   ]
  },
  {
   "cell_type": "code",
   "execution_count": 30,
   "metadata": {},
   "outputs": [],
   "source": [
    "import ocelot as oc\n",
    "\n",
    "lat = oc.MagneticLattice(lattice.cell)\n",
    "particles = oc.generate_parray(nparticles=int(1e+5), sigma_x=175e-6, sigma_y=175e-6)\n",
    "navigator = oc.Navigator(lat)\n",
    "navigator.unit_step = lat.totalLen"
   ]
  },
  {
   "cell_type": "code",
   "execution_count": 31,
   "metadata": {},
   "outputs": [
    {
     "name": "stdout",
     "output_type": "stream",
     "text": [
      "z = 42.34949999999999 / 42.34949999999999 : applied: 6.73 ms ± 772 µs per loop (mean ± std. dev. of 7 runs, 1 loop each)\n"
     ]
    }
   ],
   "source": [
    "%%timeit\n",
    "_, new_particles = oc.track(lat, particles, navigator)"
   ]
  },
  {
   "cell_type": "code",
   "execution_count": null,
   "metadata": {},
   "outputs": [],
   "source": []
  }
 ],
 "metadata": {
  "interpreter": {
   "hash": "cb0c3e2128e3ec31ec0d90a83c3ce95af788e3d47340cfb20bbf06ca38505d8f"
  },
  "kernelspec": {
   "display_name": "Python 3.7.11 64-bit ('rl37': conda)",
   "name": "python3"
  },
  "language_info": {
   "codemirror_mode": {
    "name": "ipython",
    "version": 3
   },
   "file_extension": ".py",
   "mimetype": "text/x-python",
   "name": "python",
   "nbconvert_exporter": "python",
   "pygments_lexer": "ipython3",
   "version": "3.7.11"
  },
  "orig_nbformat": 4
 },
 "nbformat": 4,
 "nbformat_minor": 2
}
