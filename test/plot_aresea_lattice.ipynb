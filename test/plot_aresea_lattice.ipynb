{
 "cells": [
  {
   "cell_type": "code",
   "execution_count": 1,
   "metadata": {},
   "outputs": [
    {
     "name": "stdout",
     "output_type": "stream",
     "text": [
      "math_op.py: module Numba is not installed. Install it if you want speed up correlation calculations\n"
     ]
    },
    {
     "name": "stderr",
     "output_type": "stream",
     "text": [
      "[INFO    ] : : \u001b[0mbeam.py: module NUMBA is not installed. Install it to speed up calculation\u001b[0m\n",
      "[INFO    ] : : \u001b[0mhigh_order.py: module NUMBA is not installed. Install it to speed up calculation\u001b[0m\n",
      "[INFO    ] : : : : : : : : : : : \u001b[0mradiation_py.py: module NUMBA is not installed. Install it to speed up calculation\u001b[0m\n",
      "[INFO    ] \u001b[0mcsr.py: module NUMBA is not installed. Install it to speed up calculation\u001b[0m\n",
      "[INFO    ] \u001b[0mcsr.py: module PYFFTW is not installed. Install it to speed up calculation.\u001b[0m\n",
      "[INFO    ] \u001b[0mcsr.py: module NUMEXPR is not installed. Install it to speed up calculation\u001b[0m\n",
      "[INFO    ] \u001b[0mwake3D.py: module NUMBA is not installed. Install it to speed up calculation\u001b[0m\n"
     ]
    },
    {
     "name": "stdout",
     "output_type": "stream",
     "text": [
      "initializing ocelot...\n",
      "import: module NUMBA is not installed. Install it to speed up calculation\n",
      "import: module PYFFTW is not installed. Install it to speed up calculation\n",
      "import: module NUMEXPR is not installed. Install it to speed up calculation\n"
     ]
    }
   ],
   "source": [
    "import ARESlatticeStage3v1_9 as ares\n",
    "import cheetah\n",
    "import matplotlib.pyplot as plt"
   ]
  },
  {
   "cell_type": "code",
   "execution_count": 3,
   "metadata": {},
   "outputs": [
    {
     "name": "stdout",
     "output_type": "stream",
     "text": [
      "WARNING: Diagnostic screen was converted with default screen properties.\n",
      "WARNING: Diagnostic screen was converted with default screen properties.\n",
      "WARNING: Diagnostic screen was converted with default screen properties.\n"
     ]
    }
   ],
   "source": [
    "cell = cheetah.utils.subcell_of_ocelot(ares.cell, \"ARLIMCXG4A\", \"ARMRBSCR1\")\n",
    "segment = cheetah.Segment.from_ocelot(cell)"
   ]
  },
  {
   "cell_type": "code",
   "execution_count": 4,
   "metadata": {},
   "outputs": [],
   "source": [
    "for e in segment.elements:\n",
    "    if isinstance(e, cheetah.BPM) or isinstance(e, cheetah.Screen):\n",
    "        e.is_active = True\n",
    "    elif isinstance(e, cheetah.Quadrupole):\n",
    "        e.k1 = 1\n",
    "    elif isinstance(e, cheetah.HorizontalCorrector) or isinstance(e, cheetah.VerticalCorrector):\n",
    "        e.angle = 1"
   ]
  },
  {
   "cell_type": "code",
   "execution_count": 5,
   "metadata": {},
   "outputs": [
    {
     "data": {
      "image/png": "[encoded data removed]",
      "text/plain": [
       "<Figure size 576x72 with 1 Axes>"
      ]
     },
     "metadata": {
      "needs_background": "light"
     },
     "output_type": "display_data"
    }
   ],
   "source": [
    "fig, ax = plt.subplots(figsize=(8,1))\n",
    "segment.plot(ax, 0)"
   ]
  },
  {
   "cell_type": "code",
   "execution_count": null,
   "metadata": {},
   "outputs": [],
   "source": []
  }
 ],
 "metadata": {
  "kernelspec": {
   "display_name": "Python 3.9.13 ('cheetah-test')",
   "language": "python",
   "name": "python3"
  },
  "language_info": {
   "codemirror_mode": {
    "name": "ipython",
    "version": 3
   },
   "file_extension": ".py",
   "mimetype": "text/x-python",
   "name": "python",
   "nbconvert_exporter": "python",
   "pygments_lexer": "ipython3",
   "version": "3.9.13"
  },
  "orig_nbformat": 4,
  "vscode": {
   "interpreter": {
    "hash": "947d9ee3b458d99f0eb80dac10135f6d6a35887bd0ce9fb941e727a4631c373a"
   }
  }
 },
 "nbformat": 4,
 "nbformat_minor": 2
}
