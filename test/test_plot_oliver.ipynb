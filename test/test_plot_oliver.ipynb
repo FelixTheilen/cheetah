{
 "cells": [
  {
   "cell_type": "code",
   "execution_count": 1,
   "metadata": {},
   "outputs": [
    {
     "name": "stdout",
     "output_type": "stream",
     "text": [
      "math_op.py: module Numba is not installed. Install it if you want speed up correlation calculations\n"
     ]
    },
    {
     "name": "stderr",
     "output_type": "stream",
     "text": [
      "[INFO    ] : : \u001b[0mbeam.py: module NUMBA is not installed. Install it to speed up calculation\u001b[0m\n",
      "[INFO    ] : : \u001b[0mhigh_order.py: module NUMBA is not installed. Install it to speed up calculation\u001b[0m\n",
      "[INFO    ] : : : : : : : : : : : \u001b[0mradiation_py.py: module NUMBA is not installed. Install it to speed up calculation\u001b[0m\n",
      "[INFO    ] \u001b[0mcsr.py: module NUMBA is not installed. Install it to speed up calculation\u001b[0m\n",
      "[INFO    ] \u001b[0mcsr.py: module PYFFTW is not installed. Install it to speed up calculation.\u001b[0m\n",
      "[INFO    ] \u001b[0mcsr.py: module NUMEXPR is not installed. Install it to speed up calculation\u001b[0m\n",
      "[INFO    ] \u001b[0mwake3D.py: module NUMBA is not installed. Install it to speed up calculation\u001b[0m\n"
     ]
    },
    {
     "name": "stdout",
     "output_type": "stream",
     "text": [
      "initializing ocelot...\n",
      "import: module NUMBA is not installed. Install it to speed up calculation\n",
      "import: module PYFFTW is not installed. Install it to speed up calculation\n",
      "import: module NUMEXPR is not installed. Install it to speed up calculation\n"
     ]
    }
   ],
   "source": [
    "import ARESlatticeStage3v1_9 as ares\n",
    "import cheetah\n",
    "import numpy as np"
   ]
  },
  {
   "cell_type": "code",
   "execution_count": 3,
   "metadata": {},
   "outputs": [],
   "source": [
    "cell = cheetah.utils.subcell_of_ocelot(ares.cell, \"AREASOLA1\", \"Drift_AREAMQZM1\")\n",
    "segment = cheetah.Segment.from_ocelot(cell)"
   ]
  },
  {
   "cell_type": "code",
   "execution_count": 4,
   "metadata": {},
   "outputs": [],
   "source": [
    "segment.AREAMQZM1.k1 = 10\n",
    "# segment.AREAMQZM2.k1 = 0\n",
    "# segment.AREAMQZM3.k1 = 0\n",
    "# segment.AREAMCVM1.angle = 0\n",
    "# segment.AREAMCHM1.angle = 1e-3"
   ]
  },
  {
   "cell_type": "code",
   "execution_count": 5,
   "metadata": {},
   "outputs": [],
   "source": [
    "coordinates = np.linspace(-1e-3, 1e-3, 3)\n",
    "particles = np.array([[i, 0, 0, 0, 0, 0, 1] for i in coordinates])"
   ]
  },
  {
   "cell_type": "code",
   "execution_count": 6,
   "metadata": {},
   "outputs": [
    {
     "data": {
      "image/png": "[encoded data removed]",
      "text/plain": [
       "<Figure size 432x288 with 3 Axes>"
      ]
     },
     "metadata": {
      "needs_background": "light"
     },
     "output_type": "display_data"
    }
   ],
   "source": [
    "segment.plot_overview(beam=cheetah.ParticleBeam(particles, 1e8), n=3)"
   ]
  },
  {
   "cell_type": "code",
   "execution_count": null,
   "metadata": {},
   "outputs": [],
   "source": []
  }
 ],
 "metadata": {
  "kernelspec": {
   "display_name": "Python 3.9.13 ('cheetah-test')",
   "language": "python",
   "name": "python3"
  },
  "language_info": {
   "codemirror_mode": {
    "name": "ipython",
    "version": 3
   },
   "file_extension": ".py",
   "mimetype": "text/x-python",
   "name": "python",
   "nbconvert_exporter": "python",
   "pygments_lexer": "ipython3",
   "version": "3.9.13"
  },
  "metadata": {
   "interpreter": {
    "hash": "aee8b7b246df8f9039afb4144a1f6fd8d2ca17a180786b69acc140d282b71a49"
   }
  },
  "orig_nbformat": 2,
  "vscode": {
   "interpreter": {
    "hash": "947d9ee3b458d99f0eb80dac10135f6d6a35887bd0ce9fb941e727a4631c373a"
   }
  }
 },
 "nbformat": 4,
 "nbformat_minor": 2
}
