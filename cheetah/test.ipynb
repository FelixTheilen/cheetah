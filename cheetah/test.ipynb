{
 "cells": [
  {
   "cell_type": "code",
   "execution_count": 1,
   "source": [
    "import cheetah\n",
    "import numpy as np\n",
    "import torch\n",
    "import matplotlib.pyplot as plt"
   ],
   "outputs": [
    {
     "output_type": "stream",
     "name": "stdout",
     "text": [
      "initializing ocelot...\n"
     ]
    }
   ],
   "metadata": {}
  },
  {
   "cell_type": "code",
   "execution_count": 18,
   "source": [
    "beam = cheetah.Beam.from_astra('./distributions/ACHIP_EA1_2021.1351.001')\n",
    "print(round(beam.sigma_x,6))\n",
    "print(round(beam.sigma_y,6))\n",
    "print(round(beam.sigma_xp,6))\n",
    "print(round(beam.sigma_yp,6))\n",
    "print(round(beam.sigma_s,6))\n",
    "print(round(beam.sigma_p,6))\n",
    "print(round(beam.mu_x,6))\n",
    "print(round(beam.mu_y,6))\n",
    "print(round(beam.mu_xp,6))\n",
    "print(round(beam.mu_yp,6))\n",
    "print(round(beam.mu_s,6))\n",
    "print(round(beam.mu_p,6))"
   ],
   "outputs": [
    {
     "output_type": "stream",
     "name": "stdout",
     "text": [
      "0.000175\n",
      "0.000175\n",
      "4e-06\n",
      "4e-06\n",
      "8e-06\n",
      "0.00228\n",
      "1e-06\n",
      "-2e-06\n",
      "0.0\n",
      "-0.0\n",
      "6e-06\n",
      "0.000383\n"
     ]
    }
   ],
   "metadata": {}
  },
  {
   "cell_type": "code",
   "execution_count": 17,
   "source": [
    "beam = cheetah.Beam.from_astra('./distributions/ARES_Linac.1351.010')\n",
    "print(round(beam.sigma_x,6))\n",
    "print(round(beam.sigma_y,6))\n",
    "print(round(beam.sigma_xp,6))\n",
    "print(round(beam.sigma_yp,6))\n",
    "print(round(beam.sigma_s,6))\n",
    "print(round(beam.sigma_p,6))\n",
    "print(round(beam.mu_x,6))\n",
    "print(round(beam.mu_y,6))\n",
    "print(round(beam.mu_xp,6))\n",
    "print(round(beam.mu_yp,6))\n",
    "print(round(beam.mu_s,6))\n",
    "print(round(beam.mu_p,6))"
   ],
   "outputs": [
    {
     "output_type": "stream",
     "name": "stdout",
     "text": [
      "0.00057\n",
      "0.00057\n",
      "3.9e-05\n",
      "3.9e-05\n",
      "0.00079\n",
      "0.001877\n",
      "0.0\n",
      "0.0\n",
      "0.0\n",
      "0.0\n",
      "-1.2e-05\n",
      "-0.001197\n"
     ]
    }
   ],
   "metadata": {}
  },
  {
   "cell_type": "code",
   "execution_count": 16,
   "source": [
    "beam.transformed_to()"
   ],
   "outputs": [
    {
     "output_type": "execute_result",
     "data": {
      "text/plain": [
       "Beam(n=100000, mu_x=7.412381615653238e-16, mu_xp=-9.345058279590151e-16, mu_y=-1.1732480992523889e-15, mu_yp=-2.594333591948413e-15, sigma_x=1.7500001092685125e-07, sigma_xp=2.0000000233721948e-07, sigma_y=1.7499999671599653e-07, sigma_yp=2.0000000233721948e-07, sigma_s=9.999999974752427e-07, sigma_p=9.999999974752427e-07, energy=157529189.64965832)"
      ]
     },
     "metadata": {},
     "execution_count": 16
    }
   ],
   "metadata": {}
  },
  {
   "cell_type": "code",
   "execution_count": 4,
   "source": [
    "torch.std(b.particles,axis=0)"
   ],
   "outputs": [
    {
     "output_type": "execute_result",
     "data": {
      "text/plain": [
       "tensor([1.0000e-06, 1.0000e-06, 1.0000e-06, 1.0000e-06, 1.0000e-06, 1.0000e-06,\n",
       "        0.0000e+00], device='cuda:0')"
      ]
     },
     "metadata": {},
     "execution_count": 4
    }
   ],
   "metadata": {}
  },
  {
   "cell_type": "code",
   "execution_count": 22,
   "source": [
    "parts = np.array(beam.particles.cpu())\n",
    "# parts = parts*np.array([2,1,3,1,1,1,1])\n",
    "print(parts.max(axis=0))\n",
    "\n",
    "xlim = 5e-4\n",
    "xplim = 8e-5\n",
    "xs = np.linspace(-xlim,xlim,100)\n",
    "xps = np.linspace(-xplim,xplim,100)\n",
    "rx =xlim/xplim \n",
    "ys = xs\n",
    "yps = xps\n",
    "ry = rx\n",
    "\n",
    "slim = 1\n",
    "splim = 1\n",
    "ss = np.linspace(-slim,slim,100)\n",
    "sps = np.linspace(-splim,splim,100)\n",
    "\n",
    "rs = slim/splim\n",
    "\n",
    "hists = []\n",
    "\n",
    "xxp = np.histogram2d(parts[:,0],parts[:,1],bins = (xs,xps))[0]\n",
    "yyp = np.histogram2d(parts[:,2],parts[:,3],bins = (yps,ys))[0]\n",
    "ssp = np.histogram2d(parts[:,4],parts[:,5],bins = (ss,sps))[0]\n",
    "\n",
    "fig, ax = plt.subplots(1,3,figsize = (10,10))\n",
    "\n",
    "ax[0].imshow(xxp.transpose(),extent=(xs[0],xs[-1],xps[0],xps[-1]))\n",
    "ax[0].set_aspect(rx)\n",
    "\n",
    "ax[1].imshow(yyp,extent=(ys[0],ys[-1],yps[0],yps[-1]))\n",
    "ax[1].set_aspect(ry)\n",
    "\n",
    "ax[2].imshow(ssp,extent=(ss[0],ss[-1],sps[0],sps[-1]))\n",
    "ax[2].set_aspect(rs)"
   ],
   "outputs": [
    {
     "output_type": "stream",
     "name": "stdout",
     "text": [
      "[5.3418241e-04 1.0193106e-05 5.0012930e-04 1.0153410e-05 1.1771810e-04\n",
      " 1.5857700e-02 1.0000000e+00]\n"
     ]
    },
    {
     "output_type": "display_data",
     "data": {
      "image/png": "[encoded data removed]",
      "image/svg+xml": "<?xml version=\"1.0\" encoding=\"utf-8\" standalone=\"no\"?>\n<!DOCTYPE svg PUBLIC \"-//W3C//DTD SVG 1.1//EN\"\n  \"http://www.w3.org/Graphics/SVG/1.1/DTD/svg11.dtd\">\n<svg height=\"205.79421pt\" version=\"1.1\" viewBox=\"0 0 602.09375 205.79421\" width=\"602.09375pt\" xmlns=\"http://www.w3.org/2000/svg\" xmlns:xlink=\"http://www.w3.org/1999/xlink\">\n <metadata>\n  <rdf:RDF xmlns:cc=\"http://creativecommons.org/ns#\" xmlns:dc=\"http://purl.org/dc/elements/1.1/\" xmlns:rdf=\"http://www.w3.org/1999/02/22-rdf-syntax-ns#\">\n   <cc:Work>\n    <dc:type rdf:resource=\"http://purl.org/dc/dcmitype/StillImage\"/>\n    <dc:date>2021-09-03T08:59:09.842561</dc:date>\n    <dc:format>image/svg+xml</dc:format>\n    <dc:creator>\n     <cc:Agent>\n      <dc:title>Matplotlib v3.4.2, https://matplotlib.org/</dc:title>\n     </cc:Agent>\n    </dc:creator>\n   </cc:Work>\n  </rdf:RDF>\n </metadata>\n <defs>\n  <style type=\"text/css\">*{stroke-linecap:butt;stroke-linejoin:round;}</style>\n </defs>\n <g id=\"figure_1\">\n  <g id=\"patch_1\">\n   <path d=\"M 0 205.79421 \nL 602.09375 205.79421 \nL 602.09375 -0 \nL 0 -0 \nz\n\" style=\"fill:none;\"/>\n  </g>\n  <g id=\"axes_1\">\n   <g id=\"patch_2\">\n    <path d=\"M 28.942188 181.916085 \nL 193.059835 181.916085 \nL 193.059835 17.798437 \nL 28.942188 17.798437 \nz\n\" style=\"fill:#ffffff;\"/>\n   </g>\n   <g clip-path=\"url(#p645ccb5612)\">\n    <image height=\"165\" id=\"imageb98cd03739\" transform=\"scale(1 -1)translate(0 -165)\" width=\"165\" x=\"28.942188\" xlink:href=\"data:image/png;base64,\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\" y=\"-16.916085\"/>\n   </g>\n   <g id=\"matplotlib.axis_1\">\n    <g id=\"xtick_1\">\n     <g id=\"line2d_1\">\n      <defs>\n       <path d=\"M 0 0 \nL 0 3.5 \n\" id=\"m08818fdd66\" style=\"stroke:#000000;stroke-width:0.8;\"/>\n      </defs>\n      <g>\n       <use style=\"stroke:#000000;stroke-width:0.8;\" x=\"45.353952\" xlink:href=\"#m08818fdd66\" y=\"181.916085\"/>\n      </g>\n     </g>\n     <g id=\"text_1\">\n      <!-- −0.0004 -->\n      <g transform=\"translate(23.668796 196.514522)scale(0.1 -0.1)\">\n       <defs>\n        <path d=\"M 678 2272 \nL 4684 2272 \nL 4684 1741 \nL 678 1741 \nL 678 2272 \nz\n\" id=\"DejaVuSans-2212\" transform=\"scale(0.015625)\"/>\n        <path d=\"M 2034 4250 \nQ 1547 4250 1301 3770 \nQ 1056 3291 1056 2328 \nQ 1056 1369 1301 889 \nQ 1547 409 2034 409 \nQ 2525 409 2770 889 \nQ 3016 1369 3016 2328 \nQ 3016 3291 2770 3770 \nQ 2525 4250 2034 4250 \nz\nM 2034 4750 \nQ 2819 4750 3233 4129 \nQ 3647 3509 3647 2328 \nQ 3647 1150 3233 529 \nQ 2819 -91 2034 -91 \nQ 1250 -91 836 529 \nQ 422 1150 422 2328 \nQ 422 3509 836 4129 \nQ 1250 4750 2034 4750 \nz\n\" id=\"DejaVuSans-30\" transform=\"scale(0.015625)\"/>\n        <path d=\"M 684 794 \nL 1344 794 \nL 1344 0 \nL 684 0 \nL 684 794 \nz\n\" id=\"DejaVuSans-2e\" transform=\"scale(0.015625)\"/>\n        <path d=\"M 2419 4116 \nL 825 1625 \nL 2419 1625 \nL 2419 4116 \nz\nM 2253 4666 \nL 3047 4666 \nL 3047 1625 \nL 3713 1625 \nL 3713 1100 \nL 3047 1100 \nL 3047 0 \nL 2419 0 \nL 2419 1100 \nL 313 1100 \nL 313 1709 \nL 2253 4666 \nz\n\" id=\"DejaVuSans-34\" transform=\"scale(0.015625)\"/>\n       </defs>\n       <use xlink:href=\"#DejaVuSans-2212\"/>\n       <use x=\"83.789062\" xlink:href=\"#DejaVuSans-30\"/>\n       <use x=\"147.412109\" xlink:href=\"#DejaVuSans-2e\"/>\n       <use x=\"179.199219\" xlink:href=\"#DejaVuSans-30\"/>\n       <use x=\"242.822266\" xlink:href=\"#DejaVuSans-30\"/>\n       <use x=\"306.445312\" xlink:href=\"#DejaVuSans-30\"/>\n       <use x=\"370.068359\" xlink:href=\"#DejaVuSans-34\"/>\n      </g>\n     </g>\n    </g>\n    <g id=\"xtick_2\">\n     <g id=\"line2d_2\">\n      <g>\n       <use style=\"stroke:#000000;stroke-width:0.8;\" x=\"78.177482\" xlink:href=\"#m08818fdd66\" y=\"181.916085\"/>\n      </g>\n     </g>\n     <g id=\"text_2\">\n      <!-- −0.0002 -->\n      <g transform=\"translate(56.492325 196.514522)scale(0.1 -0.1)\">\n       <defs>\n        <path d=\"M 1228 531 \nL 3431 531 \nL 3431 0 \nL 469 0 \nL 469 531 \nQ 828 903 1448 1529 \nQ 2069 2156 2228 2338 \nQ 2531 2678 2651 2914 \nQ 2772 3150 2772 3378 \nQ 2772 3750 2511 3984 \nQ 2250 4219 1831 4219 \nQ 1534 4219 1204 4116 \nQ 875 4013 500 3803 \nL 500 4441 \nQ 881 4594 1212 4672 \nQ 1544 4750 1819 4750 \nQ 2544 4750 2975 4387 \nQ 3406 4025 3406 3419 \nQ 3406 3131 3298 2873 \nQ 3191 2616 2906 2266 \nQ 2828 2175 2409 1742 \nQ 1991 1309 1228 531 \nz\n\" id=\"DejaVuSans-32\" transform=\"scale(0.015625)\"/>\n       </defs>\n       <use xlink:href=\"#DejaVuSans-2212\"/>\n       <use x=\"83.789062\" xlink:href=\"#DejaVuSans-30\"/>\n       <use x=\"147.412109\" xlink:href=\"#DejaVuSans-2e\"/>\n       <use x=\"179.199219\" xlink:href=\"#DejaVuSans-30\"/>\n       <use x=\"242.822266\" xlink:href=\"#DejaVuSans-30\"/>\n       <use x=\"306.445312\" xlink:href=\"#DejaVuSans-30\"/>\n       <use x=\"370.068359\" xlink:href=\"#DejaVuSans-32\"/>\n      </g>\n     </g>\n    </g>\n    <g id=\"xtick_3\">\n     <g id=\"line2d_3\">\n      <g>\n       <use style=\"stroke:#000000;stroke-width:0.8;\" x=\"111.001011\" xlink:href=\"#m08818fdd66\" y=\"181.916085\"/>\n      </g>\n     </g>\n     <g id=\"text_3\">\n      <!-- 0.0000 -->\n      <g transform=\"translate(93.505699 196.514522)scale(0.1 -0.1)\">\n       <use xlink:href=\"#DejaVuSans-30\"/>\n       <use x=\"63.623047\" xlink:href=\"#DejaVuSans-2e\"/>\n       <use x=\"95.410156\" xlink:href=\"#DejaVuSans-30\"/>\n       <use x=\"159.033203\" xlink:href=\"#DejaVuSans-30\"/>\n       <use x=\"222.65625\" xlink:href=\"#DejaVuSans-30\"/>\n       <use x=\"286.279297\" xlink:href=\"#DejaVuSans-30\"/>\n      </g>\n     </g>\n    </g>\n    <g id=\"xtick_4\">\n     <g id=\"line2d_4\">\n      <g>\n       <use style=\"stroke:#000000;stroke-width:0.8;\" x=\"143.82454\" xlink:href=\"#m08818fdd66\" y=\"181.916085\"/>\n      </g>\n     </g>\n     <g id=\"text_4\">\n      <!-- 0.0002 -->\n      <g transform=\"translate(126.329228 196.514522)scale(0.1 -0.1)\">\n       <use xlink:href=\"#DejaVuSans-30\"/>\n       <use x=\"63.623047\" xlink:href=\"#DejaVuSans-2e\"/>\n       <use x=\"95.410156\" xlink:href=\"#DejaVuSans-30\"/>\n       <use x=\"159.033203\" xlink:href=\"#DejaVuSans-30\"/>\n       <use x=\"222.65625\" xlink:href=\"#DejaVuSans-30\"/>\n       <use x=\"286.279297\" xlink:href=\"#DejaVuSans-32\"/>\n      </g>\n     </g>\n    </g>\n    <g id=\"xtick_5\">\n     <g id=\"line2d_5\">\n      <g>\n       <use style=\"stroke:#000000;stroke-width:0.8;\" x=\"176.64807\" xlink:href=\"#m08818fdd66\" y=\"181.916085\"/>\n      </g>\n     </g>\n     <g id=\"text_5\">\n      <!-- 0.0004 -->\n      <g transform=\"translate(159.152757 196.514522)scale(0.1 -0.1)\">\n       <use xlink:href=\"#DejaVuSans-30\"/>\n       <use x=\"63.623047\" xlink:href=\"#DejaVuSans-2e\"/>\n       <use x=\"95.410156\" xlink:href=\"#DejaVuSans-30\"/>\n       <use x=\"159.033203\" xlink:href=\"#DejaVuSans-30\"/>\n       <use x=\"222.65625\" xlink:href=\"#DejaVuSans-30\"/>\n       <use x=\"286.279297\" xlink:href=\"#DejaVuSans-34\"/>\n      </g>\n     </g>\n    </g>\n   </g>\n   <g id=\"matplotlib.axis_2\">\n    <g id=\"ytick_1\">\n     <g id=\"line2d_6\">\n      <defs>\n       <path d=\"M 0 0 \nL -3.5 0 \n\" id=\"m598176dd59\" style=\"stroke:#000000;stroke-width:0.8;\"/>\n      </defs>\n      <g>\n       <use style=\"stroke:#000000;stroke-width:0.8;\" x=\"28.942188\" xlink:href=\"#m598176dd59\" y=\"181.916085\"/>\n      </g>\n     </g>\n     <g id=\"text_6\">\n      <!-- −8 -->\n      <g transform=\"translate(7.2 185.715303)scale(0.1 -0.1)\">\n       <defs>\n        <path d=\"M 2034 2216 \nQ 1584 2216 1326 1975 \nQ 1069 1734 1069 1313 \nQ 1069 891 1326 650 \nQ 1584 409 2034 409 \nQ 2484 409 2743 651 \nQ 3003 894 3003 1313 \nQ 3003 1734 2745 1975 \nQ 2488 2216 2034 2216 \nz\nM 1403 2484 \nQ 997 2584 770 2862 \nQ 544 3141 544 3541 \nQ 544 4100 942 4425 \nQ 1341 4750 2034 4750 \nQ 2731 4750 3128 4425 \nQ 3525 4100 3525 3541 \nQ 3525 3141 3298 2862 \nQ 3072 2584 2669 2484 \nQ 3125 2378 3379 2068 \nQ 3634 1759 3634 1313 \nQ 3634 634 3220 271 \nQ 2806 -91 2034 -91 \nQ 1263 -91 848 271 \nQ 434 634 434 1313 \nQ 434 1759 690 2068 \nQ 947 2378 1403 2484 \nz\nM 1172 3481 \nQ 1172 3119 1398 2916 \nQ 1625 2713 2034 2713 \nQ 2441 2713 2670 2916 \nQ 2900 3119 2900 3481 \nQ 2900 3844 2670 4047 \nQ 2441 4250 2034 4250 \nQ 1625 4250 1398 4047 \nQ 1172 3844 1172 3481 \nz\n\" id=\"DejaVuSans-38\" transform=\"scale(0.015625)\"/>\n       </defs>\n       <use xlink:href=\"#DejaVuSans-2212\"/>\n       <use x=\"83.789062\" xlink:href=\"#DejaVuSans-38\"/>\n      </g>\n     </g>\n    </g>\n    <g id=\"ytick_2\">\n     <g id=\"line2d_7\">\n      <g>\n       <use style=\"stroke:#000000;stroke-width:0.8;\" x=\"28.942188\" xlink:href=\"#m598176dd59\" y=\"161.401379\"/>\n      </g>\n     </g>\n     <g id=\"text_7\">\n      <!-- −6 -->\n      <g transform=\"translate(7.2 165.200597)scale(0.1 -0.1)\">\n       <defs>\n        <path d=\"M 2113 2584 \nQ 1688 2584 1439 2293 \nQ 1191 2003 1191 1497 \nQ 1191 994 1439 701 \nQ 1688 409 2113 409 \nQ 2538 409 2786 701 \nQ 3034 994 3034 1497 \nQ 3034 2003 2786 2293 \nQ 2538 2584 2113 2584 \nz\nM 3366 4563 \nL 3366 3988 \nQ 3128 4100 2886 4159 \nQ 2644 4219 2406 4219 \nQ 1781 4219 1451 3797 \nQ 1122 3375 1075 2522 \nQ 1259 2794 1537 2939 \nQ 1816 3084 2150 3084 \nQ 2853 3084 3261 2657 \nQ 3669 2231 3669 1497 \nQ 3669 778 3244 343 \nQ 2819 -91 2113 -91 \nQ 1303 -91 875 529 \nQ 447 1150 447 2328 \nQ 447 3434 972 4092 \nQ 1497 4750 2381 4750 \nQ 2619 4750 2861 4703 \nQ 3103 4656 3366 4563 \nz\n\" id=\"DejaVuSans-36\" transform=\"scale(0.015625)\"/>\n       </defs>\n       <use xlink:href=\"#DejaVuSans-2212\"/>\n       <use x=\"83.789062\" xlink:href=\"#DejaVuSans-36\"/>\n      </g>\n     </g>\n    </g>\n    <g id=\"ytick_3\">\n     <g id=\"line2d_8\">\n      <g>\n       <use style=\"stroke:#000000;stroke-width:0.8;\" x=\"28.942188\" xlink:href=\"#m598176dd59\" y=\"140.886673\"/>\n      </g>\n     </g>\n     <g id=\"text_8\">\n      <!-- −4 -->\n      <g transform=\"translate(7.2 144.685892)scale(0.1 -0.1)\">\n       <use xlink:href=\"#DejaVuSans-2212\"/>\n       <use x=\"83.789062\" xlink:href=\"#DejaVuSans-34\"/>\n      </g>\n     </g>\n    </g>\n    <g id=\"ytick_4\">\n     <g id=\"line2d_9\">\n      <g>\n       <use style=\"stroke:#000000;stroke-width:0.8;\" x=\"28.942188\" xlink:href=\"#m598176dd59\" y=\"120.371967\"/>\n      </g>\n     </g>\n     <g id=\"text_9\">\n      <!-- −2 -->\n      <g transform=\"translate(7.2 124.171186)scale(0.1 -0.1)\">\n       <use xlink:href=\"#DejaVuSans-2212\"/>\n       <use x=\"83.789062\" xlink:href=\"#DejaVuSans-32\"/>\n      </g>\n     </g>\n    </g>\n    <g id=\"ytick_5\">\n     <g id=\"line2d_10\">\n      <g>\n       <use style=\"stroke:#000000;stroke-width:0.8;\" x=\"28.942188\" xlink:href=\"#m598176dd59\" y=\"99.857261\"/>\n      </g>\n     </g>\n     <g id=\"text_10\">\n      <!-- 0 -->\n      <g transform=\"translate(15.579688 103.65648)scale(0.1 -0.1)\">\n       <use xlink:href=\"#DejaVuSans-30\"/>\n      </g>\n     </g>\n    </g>\n    <g id=\"ytick_6\">\n     <g id=\"line2d_11\">\n      <g>\n       <use style=\"stroke:#000000;stroke-width:0.8;\" x=\"28.942188\" xlink:href=\"#m598176dd59\" y=\"79.342555\"/>\n      </g>\n     </g>\n     <g id=\"text_11\">\n      <!-- 2 -->\n      <g transform=\"translate(15.579688 83.141774)scale(0.1 -0.1)\">\n       <use xlink:href=\"#DejaVuSans-32\"/>\n      </g>\n     </g>\n    </g>\n    <g id=\"ytick_7\">\n     <g id=\"line2d_12\">\n      <g>\n       <use style=\"stroke:#000000;stroke-width:0.8;\" x=\"28.942188\" xlink:href=\"#m598176dd59\" y=\"58.827849\"/>\n      </g>\n     </g>\n     <g id=\"text_12\">\n      <!-- 4 -->\n      <g transform=\"translate(15.579688 62.627068)scale(0.1 -0.1)\">\n       <use xlink:href=\"#DejaVuSans-34\"/>\n      </g>\n     </g>\n    </g>\n    <g id=\"ytick_8\">\n     <g id=\"line2d_13\">\n      <g>\n       <use style=\"stroke:#000000;stroke-width:0.8;\" x=\"28.942188\" xlink:href=\"#m598176dd59\" y=\"38.313143\"/>\n      </g>\n     </g>\n     <g id=\"text_13\">\n      <!-- 6 -->\n      <g transform=\"translate(15.579688 42.112362)scale(0.1 -0.1)\">\n       <use xlink:href=\"#DejaVuSans-36\"/>\n      </g>\n     </g>\n    </g>\n    <g id=\"ytick_9\">\n     <g id=\"line2d_14\">\n      <g>\n       <use style=\"stroke:#000000;stroke-width:0.8;\" x=\"28.942188\" xlink:href=\"#m598176dd59\" y=\"17.798437\"/>\n      </g>\n     </g>\n     <g id=\"text_14\">\n      <!-- 8 -->\n      <g transform=\"translate(15.579688 21.597656)scale(0.1 -0.1)\">\n       <use xlink:href=\"#DejaVuSans-38\"/>\n      </g>\n     </g>\n    </g>\n    <g id=\"text_15\">\n     <!-- 1e−5 -->\n     <g transform=\"translate(28.942188 14.798437)scale(0.1 -0.1)\">\n      <defs>\n       <path d=\"M 794 531 \nL 1825 531 \nL 1825 4091 \nL 703 3866 \nL 703 4441 \nL 1819 4666 \nL 2450 4666 \nL 2450 531 \nL 3481 531 \nL 3481 0 \nL 794 0 \nL 794 531 \nz\n\" id=\"DejaVuSans-31\" transform=\"scale(0.015625)\"/>\n       <path d=\"M 3597 1894 \nL 3597 1613 \nL 953 1613 \nQ 991 1019 1311 708 \nQ 1631 397 2203 397 \nQ 2534 397 2845 478 \nQ 3156 559 3463 722 \nL 3463 178 \nQ 3153 47 2828 -22 \nQ 2503 -91 2169 -91 \nQ 1331 -91 842 396 \nQ 353 884 353 1716 \nQ 353 2575 817 3079 \nQ 1281 3584 2069 3584 \nQ 2775 3584 3186 3129 \nQ 3597 2675 3597 1894 \nz\nM 3022 2063 \nQ 3016 2534 2758 2815 \nQ 2500 3097 2075 3097 \nQ 1594 3097 1305 2825 \nQ 1016 2553 972 2059 \nL 3022 2063 \nz\n\" id=\"DejaVuSans-65\" transform=\"scale(0.015625)\"/>\n       <path d=\"M 691 4666 \nL 3169 4666 \nL 3169 4134 \nL 1269 4134 \nL 1269 2991 \nQ 1406 3038 1543 3061 \nQ 1681 3084 1819 3084 \nQ 2600 3084 3056 2656 \nQ 3513 2228 3513 1497 \nQ 3513 744 3044 326 \nQ 2575 -91 1722 -91 \nQ 1428 -91 1123 -41 \nQ 819 9 494 109 \nL 494 744 \nQ 775 591 1075 516 \nQ 1375 441 1709 441 \nQ 2250 441 2565 725 \nQ 2881 1009 2881 1497 \nQ 2881 1984 2565 2268 \nQ 2250 2553 1709 2553 \nQ 1456 2553 1204 2497 \nQ 953 2441 691 2322 \nL 691 4666 \nz\n\" id=\"DejaVuSans-35\" transform=\"scale(0.015625)\"/>\n      </defs>\n      <use xlink:href=\"#DejaVuSans-31\"/>\n      <use x=\"63.623047\" xlink:href=\"#DejaVuSans-65\"/>\n      <use x=\"125.146484\" xlink:href=\"#DejaVuSans-2212\"/>\n      <use x=\"208.935547\" xlink:href=\"#DejaVuSans-35\"/>\n     </g>\n    </g>\n   </g>\n   <g id=\"patch_3\">\n    <path d=\"M 28.942188 181.916085 \nL 28.942188 17.798437 \n\" style=\"fill:none;stroke:#000000;stroke-linecap:square;stroke-linejoin:miter;stroke-width:0.8;\"/>\n   </g>\n   <g id=\"patch_4\">\n    <path d=\"M 193.059835 181.916085 \nL 193.059835 17.798437 \n\" style=\"fill:none;stroke:#000000;stroke-linecap:square;stroke-linejoin:miter;stroke-width:0.8;\"/>\n   </g>\n   <g id=\"patch_5\">\n    <path d=\"M 28.942188 181.916085 \nL 193.059835 181.916085 \n\" style=\"fill:none;stroke:#000000;stroke-linecap:square;stroke-linejoin:miter;stroke-width:0.8;\"/>\n   </g>\n   <g id=\"patch_6\">\n    <path d=\"M 28.942188 17.798437 \nL 193.059835 17.798437 \n\" style=\"fill:none;stroke:#000000;stroke-linecap:square;stroke-linejoin:miter;stroke-width:0.8;\"/>\n   </g>\n  </g>\n  <g id=\"axes_2\">\n   <g id=\"patch_7\">\n    <path d=\"M 225.883364 181.916085 \nL 390.001011 181.916085 \nL 390.001011 17.798437 \nL 225.883364 17.798437 \nz\n\" style=\"fill:#ffffff;\"/>\n   </g>\n   <g clip-path=\"url(#p543421af03)\">\n    <image height=\"165\" id=\"image189d9b49ff\" transform=\"scale(1 -1)translate(0 -165)\" width=\"165\" x=\"225.883364\" xlink:href=\"data:image/png;base64,\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\" y=\"-16.916085\"/>\n   </g>\n   <g id=\"matplotlib.axis_3\">\n    <g id=\"xtick_6\">\n     <g id=\"line2d_15\">\n      <g>\n       <use style=\"stroke:#000000;stroke-width:0.8;\" x=\"242.295129\" xlink:href=\"#m08818fdd66\" y=\"181.916085\"/>\n      </g>\n     </g>\n     <g id=\"text_16\">\n      <!-- −0.0004 -->\n      <g transform=\"translate(220.609972 196.514522)scale(0.1 -0.1)\">\n       <use xlink:href=\"#DejaVuSans-2212\"/>\n       <use x=\"83.789062\" xlink:href=\"#DejaVuSans-30\"/>\n       <use x=\"147.412109\" xlink:href=\"#DejaVuSans-2e\"/>\n       <use x=\"179.199219\" xlink:href=\"#DejaVuSans-30\"/>\n       <use x=\"242.822266\" xlink:href=\"#DejaVuSans-30\"/>\n       <use x=\"306.445312\" xlink:href=\"#DejaVuSans-30\"/>\n       <use x=\"370.068359\" xlink:href=\"#DejaVuSans-34\"/>\n      </g>\n     </g>\n    </g>\n    <g id=\"xtick_7\">\n     <g id=\"line2d_16\">\n      <g>\n       <use style=\"stroke:#000000;stroke-width:0.8;\" x=\"275.118658\" xlink:href=\"#m08818fdd66\" y=\"181.916085\"/>\n      </g>\n     </g>\n     <g id=\"text_17\">\n      <!-- −0.0002 -->\n      <g transform=\"translate(253.433502 196.514522)scale(0.1 -0.1)\">\n       <use xlink:href=\"#DejaVuSans-2212\"/>\n       <use x=\"83.789062\" xlink:href=\"#DejaVuSans-30\"/>\n       <use x=\"147.412109\" xlink:href=\"#DejaVuSans-2e\"/>\n       <use x=\"179.199219\" xlink:href=\"#DejaVuSans-30\"/>\n       <use x=\"242.822266\" xlink:href=\"#DejaVuSans-30\"/>\n       <use x=\"306.445312\" xlink:href=\"#DejaVuSans-30\"/>\n       <use x=\"370.068359\" xlink:href=\"#DejaVuSans-32\"/>\n      </g>\n     </g>\n    </g>\n    <g id=\"xtick_8\">\n     <g id=\"line2d_17\">\n      <g>\n       <use style=\"stroke:#000000;stroke-width:0.8;\" x=\"307.942187\" xlink:href=\"#m08818fdd66\" y=\"181.916085\"/>\n      </g>\n     </g>\n     <g id=\"text_18\">\n      <!-- 0.0000 -->\n      <g transform=\"translate(290.446875 196.514522)scale(0.1 -0.1)\">\n       <use xlink:href=\"#DejaVuSans-30\"/>\n       <use x=\"63.623047\" xlink:href=\"#DejaVuSans-2e\"/>\n       <use x=\"95.410156\" xlink:href=\"#DejaVuSans-30\"/>\n       <use x=\"159.033203\" xlink:href=\"#DejaVuSans-30\"/>\n       <use x=\"222.65625\" xlink:href=\"#DejaVuSans-30\"/>\n       <use x=\"286.279297\" xlink:href=\"#DejaVuSans-30\"/>\n      </g>\n     </g>\n    </g>\n    <g id=\"xtick_9\">\n     <g id=\"line2d_18\">\n      <g>\n       <use style=\"stroke:#000000;stroke-width:0.8;\" x=\"340.765717\" xlink:href=\"#m08818fdd66\" y=\"181.916085\"/>\n      </g>\n     </g>\n     <g id=\"text_19\">\n      <!-- 0.0002 -->\n      <g transform=\"translate(323.270404 196.514522)scale(0.1 -0.1)\">\n       <use xlink:href=\"#DejaVuSans-30\"/>\n       <use x=\"63.623047\" xlink:href=\"#DejaVuSans-2e\"/>\n       <use x=\"95.410156\" xlink:href=\"#DejaVuSans-30\"/>\n       <use x=\"159.033203\" xlink:href=\"#DejaVuSans-30\"/>\n       <use x=\"222.65625\" xlink:href=\"#DejaVuSans-30\"/>\n       <use x=\"286.279297\" xlink:href=\"#DejaVuSans-32\"/>\n      </g>\n     </g>\n    </g>\n    <g id=\"xtick_10\">\n     <g id=\"line2d_19\">\n      <g>\n       <use style=\"stroke:#000000;stroke-width:0.8;\" x=\"373.589246\" xlink:href=\"#m08818fdd66\" y=\"181.916085\"/>\n      </g>\n     </g>\n     <g id=\"text_20\">\n      <!-- 0.0004 -->\n      <g transform=\"translate(356.093934 196.514522)scale(0.1 -0.1)\">\n       <use xlink:href=\"#DejaVuSans-30\"/>\n       <use x=\"63.623047\" xlink:href=\"#DejaVuSans-2e\"/>\n       <use x=\"95.410156\" xlink:href=\"#DejaVuSans-30\"/>\n       <use x=\"159.033203\" xlink:href=\"#DejaVuSans-30\"/>\n       <use x=\"222.65625\" xlink:href=\"#DejaVuSans-30\"/>\n       <use x=\"286.279297\" xlink:href=\"#DejaVuSans-34\"/>\n      </g>\n     </g>\n    </g>\n   </g>\n   <g id=\"matplotlib.axis_4\">\n    <g id=\"ytick_10\">\n     <g id=\"line2d_20\">\n      <g>\n       <use style=\"stroke:#000000;stroke-width:0.8;\" x=\"225.883364\" xlink:href=\"#m598176dd59\" y=\"181.916085\"/>\n      </g>\n     </g>\n     <g id=\"text_21\">\n      <!-- −8 -->\n      <g transform=\"translate(204.141176 185.715303)scale(0.1 -0.1)\">\n       <use xlink:href=\"#DejaVuSans-2212\"/>\n       <use x=\"83.789062\" xlink:href=\"#DejaVuSans-38\"/>\n      </g>\n     </g>\n    </g>\n    <g id=\"ytick_11\">\n     <g id=\"line2d_21\">\n      <g>\n       <use style=\"stroke:#000000;stroke-width:0.8;\" x=\"225.883364\" xlink:href=\"#m598176dd59\" y=\"161.401379\"/>\n      </g>\n     </g>\n     <g id=\"text_22\">\n      <!-- −6 -->\n      <g transform=\"translate(204.141176 165.200597)scale(0.1 -0.1)\">\n       <use xlink:href=\"#DejaVuSans-2212\"/>\n       <use x=\"83.789062\" xlink:href=\"#DejaVuSans-36\"/>\n      </g>\n     </g>\n    </g>\n    <g id=\"ytick_12\">\n     <g id=\"line2d_22\">\n      <g>\n       <use style=\"stroke:#000000;stroke-width:0.8;\" x=\"225.883364\" xlink:href=\"#m598176dd59\" y=\"140.886673\"/>\n      </g>\n     </g>\n     <g id=\"text_23\">\n      <!-- −4 -->\n      <g transform=\"translate(204.141176 144.685892)scale(0.1 -0.1)\">\n       <use xlink:href=\"#DejaVuSans-2212\"/>\n       <use x=\"83.789062\" xlink:href=\"#DejaVuSans-34\"/>\n      </g>\n     </g>\n    </g>\n    <g id=\"ytick_13\">\n     <g id=\"line2d_23\">\n      <g>\n       <use style=\"stroke:#000000;stroke-width:0.8;\" x=\"225.883364\" xlink:href=\"#m598176dd59\" y=\"120.371967\"/>\n      </g>\n     </g>\n     <g id=\"text_24\">\n      <!-- −2 -->\n      <g transform=\"translate(204.141176 124.171186)scale(0.1 -0.1)\">\n       <use xlink:href=\"#DejaVuSans-2212\"/>\n       <use x=\"83.789062\" xlink:href=\"#DejaVuSans-32\"/>\n      </g>\n     </g>\n    </g>\n    <g id=\"ytick_14\">\n     <g id=\"line2d_24\">\n      <g>\n       <use style=\"stroke:#000000;stroke-width:0.8;\" x=\"225.883364\" xlink:href=\"#m598176dd59\" y=\"99.857261\"/>\n      </g>\n     </g>\n     <g id=\"text_25\">\n      <!-- 0 -->\n      <g transform=\"translate(212.520864 103.65648)scale(0.1 -0.1)\">\n       <use xlink:href=\"#DejaVuSans-30\"/>\n      </g>\n     </g>\n    </g>\n    <g id=\"ytick_15\">\n     <g id=\"line2d_25\">\n      <g>\n       <use style=\"stroke:#000000;stroke-width:0.8;\" x=\"225.883364\" xlink:href=\"#m598176dd59\" y=\"79.342555\"/>\n      </g>\n     </g>\n     <g id=\"text_26\">\n      <!-- 2 -->\n      <g transform=\"translate(212.520864 83.141774)scale(0.1 -0.1)\">\n       <use xlink:href=\"#DejaVuSans-32\"/>\n      </g>\n     </g>\n    </g>\n    <g id=\"ytick_16\">\n     <g id=\"line2d_26\">\n      <g>\n       <use style=\"stroke:#000000;stroke-width:0.8;\" x=\"225.883364\" xlink:href=\"#m598176dd59\" y=\"58.827849\"/>\n      </g>\n     </g>\n     <g id=\"text_27\">\n      <!-- 4 -->\n      <g transform=\"translate(212.520864 62.627068)scale(0.1 -0.1)\">\n       <use xlink:href=\"#DejaVuSans-34\"/>\n      </g>\n     </g>\n    </g>\n    <g id=\"ytick_17\">\n     <g id=\"line2d_27\">\n      <g>\n       <use style=\"stroke:#000000;stroke-width:0.8;\" x=\"225.883364\" xlink:href=\"#m598176dd59\" y=\"38.313143\"/>\n      </g>\n     </g>\n     <g id=\"text_28\">\n      <!-- 6 -->\n      <g transform=\"translate(212.520864 42.112362)scale(0.1 -0.1)\">\n       <use xlink:href=\"#DejaVuSans-36\"/>\n      </g>\n     </g>\n    </g>\n    <g id=\"ytick_18\">\n     <g id=\"line2d_28\">\n      <g>\n       <use style=\"stroke:#000000;stroke-width:0.8;\" x=\"225.883364\" xlink:href=\"#m598176dd59\" y=\"17.798437\"/>\n      </g>\n     </g>\n     <g id=\"text_29\">\n      <!-- 8 -->\n      <g transform=\"translate(212.520864 21.597656)scale(0.1 -0.1)\">\n       <use xlink:href=\"#DejaVuSans-38\"/>\n      </g>\n     </g>\n    </g>\n    <g id=\"text_30\">\n     <!-- 1e−5 -->\n     <g transform=\"translate(225.883364 14.798437)scale(0.1 -0.1)\">\n      <use xlink:href=\"#DejaVuSans-31\"/>\n      <use x=\"63.623047\" xlink:href=\"#DejaVuSans-65\"/>\n      <use x=\"125.146484\" xlink:href=\"#DejaVuSans-2212\"/>\n      <use x=\"208.935547\" xlink:href=\"#DejaVuSans-35\"/>\n     </g>\n    </g>\n   </g>\n   <g id=\"patch_8\">\n    <path d=\"M 225.883364 181.916085 \nL 225.883364 17.798437 \n\" style=\"fill:none;stroke:#000000;stroke-linecap:square;stroke-linejoin:miter;stroke-width:0.8;\"/>\n   </g>\n   <g id=\"patch_9\">\n    <path d=\"M 390.001011 181.916085 \nL 390.001011 17.798437 \n\" style=\"fill:none;stroke:#000000;stroke-linecap:square;stroke-linejoin:miter;stroke-width:0.8;\"/>\n   </g>\n   <g id=\"patch_10\">\n    <path d=\"M 225.883364 181.916085 \nL 390.001011 181.916085 \n\" style=\"fill:none;stroke:#000000;stroke-linecap:square;stroke-linejoin:miter;stroke-width:0.8;\"/>\n   </g>\n   <g id=\"patch_11\">\n    <path d=\"M 225.883364 17.798437 \nL 390.001011 17.798437 \n\" style=\"fill:none;stroke:#000000;stroke-linecap:square;stroke-linejoin:miter;stroke-width:0.8;\"/>\n   </g>\n  </g>\n  <g id=\"axes_3\">\n   <g id=\"patch_12\">\n    <path d=\"M 422.82454 181.916085 \nL 586.942188 181.916085 \nL 586.942188 17.798437 \nL 422.82454 17.798437 \nz\n\" style=\"fill:#ffffff;\"/>\n   </g>\n   <g clip-path=\"url(#p9afcfdc417)\">\n    <image height=\"165\" id=\"image75ae0f1568\" transform=\"scale(1 -1)translate(0 -165)\" width=\"165\" x=\"422.82454\" xlink:href=\"data:image/png;base64,\niVBORw0KGgoAAAANSUhEUgAAAKUAAAClCAYAAAA9Kz3aAAACIUlEQVR4nO3VsUlDYQBF4f8ZV0iRXhFLSzuRjJAdBJdwDMcR7J1DxKwgsRXrwH94fN8Etzhwl/1yOA0IuZg9AP4TJTmiJEeU5IiSHFGSI0pyREmOKMkRJTmiJEeU5IiSHFGSI0pyREmOKMkRJTmiJEeU5IiSHFGSI0pyREmOKMkRJTmiJEeU5IiSHFGSI0pyREmOKMkRJTmiJEeU5IiSHFGSI0pyREmOKMkRJTmiJEeU5IiSHFGSI0pyREmOKMkRJTmiJEeU5IiSHFGSI0pyREmOKMkRJTmiJEeU5IiSHFGSI0pyREmOKMkRJTmiJEeU5IiSHFGSI0pyREmOKMkRJTmiJEeU5IiSHFGSI0pyREmOKM9gc3s9jk/3Y3NzNXvKKojyDD4ft+Pj5XV8PWxnT1mFy9kD1mD3dhx3p+exe/8eP7PHrMCyXw6n2SPgL/dNjijJESU5oiRHlOSIkhxRkiNKckRJjijJESU5oiRHlOSIkhxRkiNKckRJjijJESU5oiRHlOSIkhxRkiNKckRJjijJESU5oiRHlOSIkhxRkiNKckRJjijJESU5oiRHlOSIkhxRkiNKckRJjijJESU5oiRHlOSIkhxRkiNKckRJjijJESU5oiRHlOSIkhxRkiNKckRJjijJESU5oiRHlOSIkhxRkiNKckRJjijJESU5oiRHlOSIkhxRkiNKckRJjijJESU5oiRHlOSIkhxRkiNKcn4Bjb8RJmEmDxcAAAAASUVORK5CYII=\" y=\"-16.916085\"/>\n   </g>\n   <g id=\"matplotlib.axis_5\">\n    <g id=\"xtick_11\">\n     <g id=\"line2d_29\">\n      <g>\n       <use style=\"stroke:#000000;stroke-width:0.8;\" x=\"422.82454\" xlink:href=\"#m08818fdd66\" y=\"181.916085\"/>\n      </g>\n     </g>\n     <g id=\"text_31\">\n      <!-- −1.0 -->\n      <g transform=\"translate(410.683134 196.514522)scale(0.1 -0.1)\">\n       <use xlink:href=\"#DejaVuSans-2212\"/>\n       <use x=\"83.789062\" xlink:href=\"#DejaVuSans-31\"/>\n       <use x=\"147.412109\" xlink:href=\"#DejaVuSans-2e\"/>\n       <use x=\"179.199219\" xlink:href=\"#DejaVuSans-30\"/>\n      </g>\n     </g>\n    </g>\n    <g id=\"xtick_12\">\n     <g id=\"line2d_30\">\n      <g>\n       <use style=\"stroke:#000000;stroke-width:0.8;\" x=\"463.853952\" xlink:href=\"#m08818fdd66\" y=\"181.916085\"/>\n      </g>\n     </g>\n     <g id=\"text_32\">\n      <!-- −0.5 -->\n      <g transform=\"translate(451.712546 196.514522)scale(0.1 -0.1)\">\n       <use xlink:href=\"#DejaVuSans-2212\"/>\n       <use x=\"83.789062\" xlink:href=\"#DejaVuSans-30\"/>\n       <use x=\"147.412109\" xlink:href=\"#DejaVuSans-2e\"/>\n       <use x=\"179.199219\" xlink:href=\"#DejaVuSans-35\"/>\n      </g>\n     </g>\n    </g>\n    <g id=\"xtick_13\">\n     <g id=\"line2d_31\">\n      <g>\n       <use style=\"stroke:#000000;stroke-width:0.8;\" x=\"504.883364\" xlink:href=\"#m08818fdd66\" y=\"181.916085\"/>\n      </g>\n     </g>\n     <g id=\"text_33\">\n      <!-- 0.0 -->\n      <g transform=\"translate(496.931801 196.514522)scale(0.1 -0.1)\">\n       <use xlink:href=\"#DejaVuSans-30\"/>\n       <use x=\"63.623047\" xlink:href=\"#DejaVuSans-2e\"/>\n       <use x=\"95.410156\" xlink:href=\"#DejaVuSans-30\"/>\n      </g>\n     </g>\n    </g>\n    <g id=\"xtick_14\">\n     <g id=\"line2d_32\">\n      <g>\n       <use style=\"stroke:#000000;stroke-width:0.8;\" x=\"545.912776\" xlink:href=\"#m08818fdd66\" y=\"181.916085\"/>\n      </g>\n     </g>\n     <g id=\"text_34\">\n      <!-- 0.5 -->\n      <g transform=\"translate(537.961213 196.514522)scale(0.1 -0.1)\">\n       <use xlink:href=\"#DejaVuSans-30\"/>\n       <use x=\"63.623047\" xlink:href=\"#DejaVuSans-2e\"/>\n       <use x=\"95.410156\" xlink:href=\"#DejaVuSans-35\"/>\n      </g>\n     </g>\n    </g>\n    <g id=\"xtick_15\">\n     <g id=\"line2d_33\">\n      <g>\n       <use style=\"stroke:#000000;stroke-width:0.8;\" x=\"586.942188\" xlink:href=\"#m08818fdd66\" y=\"181.916085\"/>\n      </g>\n     </g>\n     <g id=\"text_35\">\n      <!-- 1.0 -->\n      <g transform=\"translate(578.990625 196.514522)scale(0.1 -0.1)\">\n       <use xlink:href=\"#DejaVuSans-31\"/>\n       <use x=\"63.623047\" xlink:href=\"#DejaVuSans-2e\"/>\n       <use x=\"95.410156\" xlink:href=\"#DejaVuSans-30\"/>\n      </g>\n     </g>\n    </g>\n   </g>\n   <g id=\"matplotlib.axis_6\">\n    <g id=\"ytick_19\">\n     <g id=\"line2d_34\">\n      <g>\n       <use style=\"stroke:#000000;stroke-width:0.8;\" x=\"422.82454\" xlink:href=\"#m598176dd59\" y=\"181.916085\"/>\n      </g>\n     </g>\n     <g id=\"text_36\">\n      <!-- −1.00 -->\n      <g transform=\"translate(385.179228 185.715303)scale(0.1 -0.1)\">\n       <use xlink:href=\"#DejaVuSans-2212\"/>\n       <use x=\"83.789062\" xlink:href=\"#DejaVuSans-31\"/>\n       <use x=\"147.412109\" xlink:href=\"#DejaVuSans-2e\"/>\n       <use x=\"179.199219\" xlink:href=\"#DejaVuSans-30\"/>\n       <use x=\"242.822266\" xlink:href=\"#DejaVuSans-30\"/>\n      </g>\n     </g>\n    </g>\n    <g id=\"ytick_20\">\n     <g id=\"line2d_35\">\n      <g>\n       <use style=\"stroke:#000000;stroke-width:0.8;\" x=\"422.82454\" xlink:href=\"#m598176dd59\" y=\"161.401379\"/>\n      </g>\n     </g>\n     <g id=\"text_37\">\n      <!-- −0.75 -->\n      <g transform=\"translate(385.179228 165.200597)scale(0.1 -0.1)\">\n       <defs>\n        <path d=\"M 525 4666 \nL 3525 4666 \nL 3525 4397 \nL 1831 0 \nL 1172 0 \nL 2766 4134 \nL 525 4134 \nL 525 4666 \nz\n\" id=\"DejaVuSans-37\" transform=\"scale(0.015625)\"/>\n       </defs>\n       <use xlink:href=\"#DejaVuSans-2212\"/>\n       <use x=\"83.789062\" xlink:href=\"#DejaVuSans-30\"/>\n       <use x=\"147.412109\" xlink:href=\"#DejaVuSans-2e\"/>\n       <use x=\"179.199219\" xlink:href=\"#DejaVuSans-37\"/>\n       <use x=\"242.822266\" xlink:href=\"#DejaVuSans-35\"/>\n      </g>\n     </g>\n    </g>\n    <g id=\"ytick_21\">\n     <g id=\"line2d_36\">\n      <g>\n       <use style=\"stroke:#000000;stroke-width:0.8;\" x=\"422.82454\" xlink:href=\"#m598176dd59\" y=\"140.886673\"/>\n      </g>\n     </g>\n     <g id=\"text_38\">\n      <!-- −0.50 -->\n      <g transform=\"translate(385.179228 144.685892)scale(0.1 -0.1)\">\n       <use xlink:href=\"#DejaVuSans-2212\"/>\n       <use x=\"83.789062\" xlink:href=\"#DejaVuSans-30\"/>\n       <use x=\"147.412109\" xlink:href=\"#DejaVuSans-2e\"/>\n       <use x=\"179.199219\" xlink:href=\"#DejaVuSans-35\"/>\n       <use x=\"242.822266\" xlink:href=\"#DejaVuSans-30\"/>\n      </g>\n     </g>\n    </g>\n    <g id=\"ytick_22\">\n     <g id=\"line2d_37\">\n      <g>\n       <use style=\"stroke:#000000;stroke-width:0.8;\" x=\"422.82454\" xlink:href=\"#m598176dd59\" y=\"120.371967\"/>\n      </g>\n     </g>\n     <g id=\"text_39\">\n      <!-- −0.25 -->\n      <g transform=\"translate(385.179228 124.171186)scale(0.1 -0.1)\">\n       <use xlink:href=\"#DejaVuSans-2212\"/>\n       <use x=\"83.789062\" xlink:href=\"#DejaVuSans-30\"/>\n       <use x=\"147.412109\" xlink:href=\"#DejaVuSans-2e\"/>\n       <use x=\"179.199219\" xlink:href=\"#DejaVuSans-32\"/>\n       <use x=\"242.822266\" xlink:href=\"#DejaVuSans-35\"/>\n      </g>\n     </g>\n    </g>\n    <g id=\"ytick_23\">\n     <g id=\"line2d_38\">\n      <g>\n       <use style=\"stroke:#000000;stroke-width:0.8;\" x=\"422.82454\" xlink:href=\"#m598176dd59\" y=\"99.857261\"/>\n      </g>\n     </g>\n     <g id=\"text_40\">\n      <!-- 0.00 -->\n      <g transform=\"translate(393.558915 103.65648)scale(0.1 -0.1)\">\n       <use xlink:href=\"#DejaVuSans-30\"/>\n       <use x=\"63.623047\" xlink:href=\"#DejaVuSans-2e\"/>\n       <use x=\"95.410156\" xlink:href=\"#DejaVuSans-30\"/>\n       <use x=\"159.033203\" xlink:href=\"#DejaVuSans-30\"/>\n      </g>\n     </g>\n    </g>\n    <g id=\"ytick_24\">\n     <g id=\"line2d_39\">\n      <g>\n       <use style=\"stroke:#000000;stroke-width:0.8;\" x=\"422.82454\" xlink:href=\"#m598176dd59\" y=\"79.342555\"/>\n      </g>\n     </g>\n     <g id=\"text_41\">\n      <!-- 0.25 -->\n      <g transform=\"translate(393.558915 83.141774)scale(0.1 -0.1)\">\n       <use xlink:href=\"#DejaVuSans-30\"/>\n       <use x=\"63.623047\" xlink:href=\"#DejaVuSans-2e\"/>\n       <use x=\"95.410156\" xlink:href=\"#DejaVuSans-32\"/>\n       <use x=\"159.033203\" xlink:href=\"#DejaVuSans-35\"/>\n      </g>\n     </g>\n    </g>\n    <g id=\"ytick_25\">\n     <g id=\"line2d_40\">\n      <g>\n       <use style=\"stroke:#000000;stroke-width:0.8;\" x=\"422.82454\" xlink:href=\"#m598176dd59\" y=\"58.827849\"/>\n      </g>\n     </g>\n     <g id=\"text_42\">\n      <!-- 0.50 -->\n      <g transform=\"translate(393.558915 62.627068)scale(0.1 -0.1)\">\n       <use xlink:href=\"#DejaVuSans-30\"/>\n       <use x=\"63.623047\" xlink:href=\"#DejaVuSans-2e\"/>\n       <use x=\"95.410156\" xlink:href=\"#DejaVuSans-35\"/>\n       <use x=\"159.033203\" xlink:href=\"#DejaVuSans-30\"/>\n      </g>\n     </g>\n    </g>\n    <g id=\"ytick_26\">\n     <g id=\"line2d_41\">\n      <g>\n       <use style=\"stroke:#000000;stroke-width:0.8;\" x=\"422.82454\" xlink:href=\"#m598176dd59\" y=\"38.313143\"/>\n      </g>\n     </g>\n     <g id=\"text_43\">\n      <!-- 0.75 -->\n      <g transform=\"translate(393.558915 42.112362)scale(0.1 -0.1)\">\n       <use xlink:href=\"#DejaVuSans-30\"/>\n       <use x=\"63.623047\" xlink:href=\"#DejaVuSans-2e\"/>\n       <use x=\"95.410156\" xlink:href=\"#DejaVuSans-37\"/>\n       <use x=\"159.033203\" xlink:href=\"#DejaVuSans-35\"/>\n      </g>\n     </g>\n    </g>\n    <g id=\"ytick_27\">\n     <g id=\"line2d_42\">\n      <g>\n       <use style=\"stroke:#000000;stroke-width:0.8;\" x=\"422.82454\" xlink:href=\"#m598176dd59\" y=\"17.798437\"/>\n      </g>\n     </g>\n     <g id=\"text_44\">\n      <!-- 1.00 -->\n      <g transform=\"translate(393.558915 21.597656)scale(0.1 -0.1)\">\n       <use xlink:href=\"#DejaVuSans-31\"/>\n       <use x=\"63.623047\" xlink:href=\"#DejaVuSans-2e\"/>\n       <use x=\"95.410156\" xlink:href=\"#DejaVuSans-30\"/>\n       <use x=\"159.033203\" xlink:href=\"#DejaVuSans-30\"/>\n      </g>\n     </g>\n    </g>\n   </g>\n   <g id=\"patch_13\">\n    <path d=\"M 422.82454 181.916085 \nL 422.82454 17.798437 \n\" style=\"fill:none;stroke:#000000;stroke-linecap:square;stroke-linejoin:miter;stroke-width:0.8;\"/>\n   </g>\n   <g id=\"patch_14\">\n    <path d=\"M 586.942188 181.916085 \nL 586.942188 17.798437 \n\" style=\"fill:none;stroke:#000000;stroke-linecap:square;stroke-linejoin:miter;stroke-width:0.8;\"/>\n   </g>\n   <g id=\"patch_15\">\n    <path d=\"M 422.82454 181.916085 \nL 586.942188 181.916085 \n\" style=\"fill:none;stroke:#000000;stroke-linecap:square;stroke-linejoin:miter;stroke-width:0.8;\"/>\n   </g>\n   <g id=\"patch_16\">\n    <path d=\"M 422.82454 17.798437 \nL 586.942188 17.798437 \n\" style=\"fill:none;stroke:#000000;stroke-linecap:square;stroke-linejoin:miter;stroke-width:0.8;\"/>\n   </g>\n  </g>\n </g>\n <defs>\n  <clipPath id=\"p645ccb5612\">\n   <rect height=\"164.117647\" width=\"164.117647\" x=\"28.942188\" y=\"17.798437\"/>\n  </clipPath>\n  <clipPath id=\"p543421af03\">\n   <rect height=\"164.117647\" width=\"164.117647\" x=\"225.883364\" y=\"17.798437\"/>\n  </clipPath>\n  <clipPath id=\"p9afcfdc417\">\n   <rect height=\"164.117647\" width=\"164.117647\" x=\"422.82454\" y=\"17.798437\"/>\n  </clipPath>\n </defs>\n</svg>\n",
      "text/plain": [
       "<Figure size 720x720 with 3 Axes>"
      ]
     },
     "metadata": {
      "needs_background": "light"
     }
    }
   ],
   "metadata": {}
  },
  {
   "cell_type": "code",
   "execution_count": 136,
   "source": [
    "parts.std(axis=0)"
   ],
   "outputs": [
    {
     "output_type": "execute_result",
     "data": {
      "text/plain": [
       "array([0.9999837 , 0.99998564, 0.99999076, 0.999988  , 0.99999064,\n",
       "       0.99998814, 0.        ], dtype=float32)"
      ]
     },
     "metadata": {},
     "execution_count": 136
    }
   ],
   "metadata": {}
  },
  {
   "cell_type": "code",
   "execution_count": 221,
   "source": [
    "def randomizer(parray, \n",
    "            sigmas=torch.ones(6,device='cuda'), \n",
    "            mus=torch.zeros(6,device='cuda')):\n",
    "\n",
    "            phase_space = parray[:,:-1]\n",
    "            \n",
    "            means = torch.mean(phase_space,axis=0)\n",
    "            phase_space = torch.add(phase_space,-means)\n",
    "\n",
    "            stds = torch.std(phase_space, axis=0)\n",
    "            phase_space = torch.div(phase_space, stds)\n",
    "\n",
    "            phase_space = torch.mul(phase_space, sigmas)\n",
    "            phase_space = torch.add(phase_space, mus)\n",
    "            \n",
    "            parray = torch.cat(\n",
    "                (phase_space,torch.ones(phase_space.shape[0], 1, device='cuda')),1)\n",
    "\n",
    "            return parray "
   ],
   "outputs": [],
   "metadata": {}
  },
  {
   "cell_type": "code",
   "execution_count": 222,
   "source": [
    "randomizer(b.particles)"
   ],
   "outputs": [
    {
     "output_type": "execute_result",
     "data": {
      "text/plain": [
       "tensor([[-0.0044, -0.0146,  0.0067,  ..., -0.7146, -0.1679,  1.0000],\n",
       "        [ 0.3469,  0.1544,  0.0067,  ..., -0.4416, -0.6177,  1.0000],\n",
       "        [-0.0046, -0.0145,  0.2613,  ..., -0.6291,  0.3520,  1.0000],\n",
       "        ...,\n",
       "        [ 1.1881,  1.4802,  1.1622,  ..., -0.6108, -0.4079,  1.0000],\n",
       "        [ 0.3182,  0.3146,  1.5960,  ..., -0.5662,  0.4621,  1.0000],\n",
       "        [-0.3630, -0.6627,  1.2453,  ...,  0.1066, -0.9641,  1.0000]],\n",
       "       device='cuda:0')"
      ]
     },
     "metadata": {},
     "execution_count": 222
    }
   ],
   "metadata": {}
  },
  {
   "cell_type": "code",
   "execution_count": 223,
   "source": [
    "torch.random.uniform()"
   ],
   "outputs": [
    {
     "output_type": "error",
     "ename": "AttributeError",
     "evalue": "module 'torch.random' has no attribute 'uniform'",
     "traceback": [
      "\u001b[0;31m---------------------------------------------------------------------------\u001b[0m",
      "\u001b[0;31mAttributeError\u001b[0m                            Traceback (most recent call last)",
      "\u001b[0;32m<ipython-input-223-12690d6ac7c6>\u001b[0m in \u001b[0;36m<module>\u001b[0;34m\u001b[0m\n\u001b[0;32m----> 1\u001b[0;31m \u001b[0mtorch\u001b[0m\u001b[0;34m.\u001b[0m\u001b[0mrandom\u001b[0m\u001b[0;34m.\u001b[0m\u001b[0muniform\u001b[0m\u001b[0;34m(\u001b[0m\u001b[0;34m)\u001b[0m\u001b[0;34m\u001b[0m\u001b[0;34m\u001b[0m\u001b[0m\n\u001b[0m",
      "\u001b[0;31mAttributeError\u001b[0m: module 'torch.random' has no attribute 'uniform'"
     ]
    }
   ],
   "metadata": {}
  },
  {
   "cell_type": "code",
   "execution_count": 226,
   "source": [
    "torch.FloatTensor(3,4).uniform_(2,3)"
   ],
   "outputs": [
    {
     "output_type": "execute_result",
     "data": {
      "text/plain": [
       "tensor([[2.4088, 2.5350, 2.3522, 2.4377],\n",
       "        [2.3920, 2.1297, 2.7811, 2.0610],\n",
       "        [2.5026, 2.8289, 2.1593, 2.0417]])"
      ]
     },
     "metadata": {},
     "execution_count": 226
    }
   ],
   "metadata": {}
  },
  {
   "cell_type": "code",
   "execution_count": 10,
   "source": [
    "torch.FloatTensor()"
   ],
   "outputs": [
    {
     "output_type": "execute_result",
     "data": {
      "text/plain": [
       "tensor([3., 4.])"
      ]
     },
     "metadata": {},
     "execution_count": 10
    }
   ],
   "metadata": {}
  },
  {
   "cell_type": "code",
   "execution_count": 11,
   "source": [
    "np.arange(1,1,10)"
   ],
   "outputs": [
    {
     "output_type": "execute_result",
     "data": {
      "text/plain": [
       "array([1, 2, 3, 4, 5, 6, 7, 8, 9])"
      ]
     },
     "metadata": {},
     "execution_count": 11
    }
   ],
   "metadata": {}
  },
  {
   "cell_type": "code",
   "execution_count": null,
   "source": [],
   "outputs": [],
   "metadata": {}
  }
 ],
 "metadata": {
  "orig_nbformat": 4,
  "language_info": {
   "name": "python",
   "version": "3.8.8",
   "mimetype": "text/x-python",
   "codemirror_mode": {
    "name": "ipython",
    "version": 3
   },
   "pygments_lexer": "ipython3",
   "nbconvert_exporter": "python",
   "file_extension": ".py"
  },
  "kernelspec": {
   "name": "python3",
   "display_name": "Python 3.8.8 64-bit ('rl': conda)"
  },
  "interpreter": {
   "hash": "2f3a5b33fd92d9a516ff57a2824ef68d58b3f7c04dee61a8358a1c06f0afa498"
  }
 },
 "nbformat": 4,
 "nbformat_minor": 2
}